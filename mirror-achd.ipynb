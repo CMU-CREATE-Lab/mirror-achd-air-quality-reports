{
 "cells": [
  {
   "cell_type": "code",
   "execution_count": null,
   "metadata": {},
   "outputs": [],
   "source": [
    "import os\n",
    "import os.path\n",
    "\n",
    "source_url = \"http://www.achd.net/airqual/DailySummary.PDF\"\n",
    "dest_dir = \"mirror\"\n",
    "tmp_dir = \"tmp\"\n",
    "\n",
    "print \"Mirror directory is %s\" % os.path.abspath(dest_dir)\n"
   ]
  },
  {
   "cell_type": "code",
   "execution_count": null,
   "metadata": {},
   "outputs": [],
   "source": [
    "import tempfile\n",
    "import urllib2\n",
    "import glob\n",
    "\n",
    "def now():\n",
    "    return time.strftime('%Y-%m-%d-%H:%M:%S%z')\n",
    "\n",
    "def find_most_recent_path(source):\n",
    "    (base, ext) = os.path.splitext(os.path.basename(source_url))\n",
    "    mirrored_files = sorted(glob.glob(dest_dir + \"/\" + base + \"-????-??-??-??:??:??*\" + ext))\n",
    "    if len(mirrored_files) == 0:\n",
    "        return None\n",
    "    return mirrored_files[-1]\n",
    "\n",
    "def mirror_now(source, dest_dir, tmp_dir):\n",
    "    try:\n",
    "        os.mkdir(dest_dir)\n",
    "    except OSError:\n",
    "        pass\n",
    "    try:\n",
    "        os.mkdir(tmp_dir)\n",
    "    except OSError:\n",
    "        pass\n",
    "\n",
    "    (base, ext) = os.path.splitext(os.path.basename(source_url))\n",
    "    log_path = dest_dir + \"/\" + base + \"-log.txt\"\n",
    "    log = open(log_path, \"a\")\n",
    "    \n",
    "    try:\n",
    "        response = urllib2.urlopen(source).read()\n",
    "    except urllib2.HTTPError as e:\n",
    "        log.write(\"%s: Couldn't read %s because %s\\n\" % (now(), source, e))\n",
    "        log.flush()\n",
    "        return\n",
    "    log.write(\"%s: Read %d bytes from %s\\n\" % (now(), len(response), source))\n",
    "    log.flush()\n",
    "    most_recent_path = find_most_recent_path(source)\n",
    "    if most_recent_path and open(most_recent_path).read() == response:\n",
    "        log.write(\"%s: Not recording %d bytes read from %s because identical to previous file %s\\n\" % (now(), len(response), source, most_recent_path))\n",
    "        log.flush()\n",
    "    else:\n",
    "        dest = \"%s/%s-%s%s\" % (dest_dir, base, now(), ext)\n",
    "        out = tempfile.NamedTemporaryFile(dir=tmp_dir, delete=False)\n",
    "        out.write(response)\n",
    "        out.close()\n",
    "        os.rename(out.name, dest)\n",
    "        log.write(\"%s: Stored %d bytes read from %s at path %s\\n\" % (now(), len(response), source, dest))\n",
    "        log.flush()\n",
    "        \n",
    "    \n",
    "    "
   ]
  },
  {
   "cell_type": "code",
   "execution_count": null,
   "metadata": {},
   "outputs": [],
   "source": [
    "mirror_now(source_url, dest_dir, tmp_dir)"
   ]
  },
  {
   "cell_type": "code",
   "execution_count": null,
   "metadata": {},
   "outputs": [],
   "source": [
    "find_most_recent_path(source_url)"
   ]
  },
  {
   "cell_type": "code",
   "execution_count": null,
   "metadata": {},
   "outputs": [],
   "source": []
  },
  {
   "cell_type": "code",
   "execution_count": null,
   "metadata": {},
   "outputs": [],
   "source": [
    "import time\n",
    "time.clock()"
   ]
  },
  {
   "cell_type": "code",
   "execution_count": null,
   "metadata": {},
   "outputs": [],
   "source": [
    "time.strftime('%Y-%m-%d_%H:%M:%S%z')"
   ]
  },
  {
   "cell_type": "code",
   "execution_count": null,
   "metadata": {},
   "outputs": [],
   "source": []
  }
 ],
 "metadata": {
  "kernelspec": {
   "display_name": "Python 2",
   "language": "python",
   "name": "python2"
  },
  "language_info": {
   "codemirror_mode": {
    "name": "ipython",
    "version": 2
   },
   "file_extension": ".py",
   "mimetype": "text/x-python",
   "name": "python",
   "nbconvert_exporter": "python",
   "pygments_lexer": "ipython2",
   "version": "2.7.11"
  }
 },
 "nbformat": 4,
 "nbformat_minor": 0
}
