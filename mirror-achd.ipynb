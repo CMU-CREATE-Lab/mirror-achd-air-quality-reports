{
 "metadata": {
  "name": "",
  "signature": "sha256:2fcc67da623a5bbd52fb47fc12b99d36ab1d355ca35724b822505f44481ba888"
 },
 "nbformat": 3,
 "nbformat_minor": 0,
 "worksheets": [
  {
   "cells": [
    {
     "cell_type": "code",
     "collapsed": false,
     "input": [
      "import os\n",
      "import os.path\n",
      "\n",
      "source_url = \"http://www.achd.net/airqual/DailySummary.PDF\"\n",
      "dest_dir = \"mirror\"\n",
      "tmp_dir = \"tmp\"\n",
      "\n",
      "print \"Mirror directory is %s\" % os.path.abspath(dest_dir)\n"
     ],
     "language": "python",
     "metadata": {},
     "outputs": [
      {
       "output_type": "stream",
       "stream": "stdout",
       "text": [
        "Mirror directory is /Users/rsargent/projects/mirror-achd/mirror\n"
       ]
      }
     ],
     "prompt_number": 73
    },
    {
     "cell_type": "code",
     "collapsed": false,
     "input": [
      "import tempfile\n",
      "import urllib2\n",
      "import glob\n",
      "\n",
      "def now():\n",
      "    return time.strftime('%Y-%m-%d-%H:%M:%S%z')\n",
      "\n",
      "def find_most_recent_path(source):\n",
      "    (base, ext) = os.path.splitext(os.path.basename(source_url))\n",
      "    mirrored_files = sorted(glob.glob(dest_dir + \"/\" + base + \"-????-??-??-??:??:??*\" + ext))\n",
      "    if len(mirrored_files) == 0:\n",
      "        return None\n",
      "    return mirrored_files[-1]\n",
      "\n",
      "def mirror_now(source, dest_dir, tmp_dir):\n",
      "    try:\n",
      "        os.mkdir(dest_dir)\n",
      "    except OSError:\n",
      "        pass\n",
      "    try:\n",
      "        os.mkdir(tmp_dir)\n",
      "    except OSError:\n",
      "        pass\n",
      "\n",
      "    (base, ext) = os.path.splitext(os.path.basename(source_url))\n",
      "    log_path = dest_dir + \"/\" + base + \"-log.txt\"\n",
      "    log = open(log_path, \"a\")\n",
      "    \n",
      "    try:\n",
      "        response = urllib2.urlopen(source).read()\n",
      "    except urllib2.HTTPError as e:\n",
      "        log.write(\"%s: Couldn't read %s because %s\\n\" % (now(), source, e))\n",
      "        log.flush()\n",
      "        return\n",
      "    log.write(\"%s: Read %d bytes from %s\\n\" % (now(), len(response), source))\n",
      "    log.flush()\n",
      "    most_recent_path = find_most_recent_path(source)\n",
      "    if most_recent_path and open(most_recent_path).read() == response:\n",
      "        log.write(\"%s: Not recording %d bytes read from %s because identical to previous file %s\\n\" % (now(), len(response), source, most_recent_path))\n",
      "        log.flush()\n",
      "    else:\n",
      "        dest = \"%s/%s-%s%s\" % (dest_dir, base, now(), ext)\n",
      "        out = tempfile.NamedTemporaryFile(dir=tmp_dir, delete=False)\n",
      "        out.write(response)\n",
      "        out.close()\n",
      "        os.rename(out.name, dest)\n",
      "        log.write(\"%s: Stored %d bytes read from %s at path %s\\n\" % (now(), len(response), source, dest))\n",
      "        log.flush()\n",
      "        \n",
      "    \n",
      "    "
     ],
     "language": "python",
     "metadata": {},
     "outputs": [],
     "prompt_number": 76
    },
    {
     "cell_type": "code",
     "collapsed": false,
     "input": [
      "mirror_now(source_url, dest_dir, tmp_dir)"
     ],
     "language": "python",
     "metadata": {},
     "outputs": [],
     "prompt_number": 77
    },
    {
     "cell_type": "code",
     "collapsed": false,
     "input": [
      "find_most_recent_path(source_url)"
     ],
     "language": "python",
     "metadata": {},
     "outputs": [
      {
       "metadata": {},
       "output_type": "pyout",
       "prompt_number": 34,
       "text": [
        "'mirror/DailySummary-2014-05-02-10:27:13-0400.PDF'"
       ]
      }
     ],
     "prompt_number": 34
    },
    {
     "cell_type": "code",
     "collapsed": false,
     "input": [],
     "language": "python",
     "metadata": {},
     "outputs": [
      {
       "metadata": {},
       "output_type": "pyout",
       "prompt_number": 9,
       "text": [
        "[]"
       ]
      }
     ],
     "prompt_number": 9
    },
    {
     "cell_type": "code",
     "collapsed": false,
     "input": [
      "import time\n",
      "time.clock()"
     ],
     "language": "python",
     "metadata": {},
     "outputs": [
      {
       "metadata": {},
       "output_type": "pyout",
       "prompt_number": 11,
       "text": [
        "0.7172"
       ]
      }
     ],
     "prompt_number": 11
    },
    {
     "cell_type": "code",
     "collapsed": false,
     "input": [
      "time.strftime('%Y-%m-%d_%H:%M:%S%z')"
     ],
     "language": "python",
     "metadata": {},
     "outputs": [
      {
       "metadata": {},
       "output_type": "pyout",
       "prompt_number": 20,
       "text": [
        "'2014-05-02_09:05:15-0400'"
       ]
      }
     ],
     "prompt_number": 20
    },
    {
     "cell_type": "code",
     "collapsed": false,
     "input": [],
     "language": "python",
     "metadata": {},
     "outputs": []
    }
   ],
   "metadata": {}
  }
 ]
}