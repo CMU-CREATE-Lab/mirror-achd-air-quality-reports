{
 "metadata": {
  "name": "",
  "signature": "sha256:2574e704896cdb669e4c553d4d8f2a3c9d0945ccf8be3f3f0d0052e704684804"
 },
 "nbformat": 3,
 "nbformat_minor": 0,
 "worksheets": [
  {
   "cells": [
    {
     "cell_type": "code",
     "collapsed": false,
     "input": [
      "def exec_ipynb(url):\n",
      "    import json, re, urllib2\n",
      "    nb = (urllib2.urlopen(url) if re.match(r'https?:', url) else open(url)).read()\n",
      "    exec '\\n'.join([''.join(cell['input']) for cell in json.loads(nb)['worksheets'][0]['cells'] if cell['cell_type'] == 'code']) in globals()\n",
      "\n",
      "exec_ipynb('esdr-library.ipynb')\n"
     ],
     "language": "python",
     "metadata": {},
     "outputs": [],
     "prompt_number": 13
    },
    {
     "cell_type": "code",
     "collapsed": false,
     "input": [
      "esdr = Esdr()\n",
      "product = esdr.get_product_by_name('TestProduct')\n",
      "device = esdr.get_or_create_device(product, 'Avalon')\n",
      "feed = esdr.get_or_create_feed(device)\n",
      "tile_prefix = esdr.get_tile_prefix(feed, 'PM25B_UG_M3')\n",
      "level = 30\n",
      "offset = 0\n",
      "print tile_prefix\n",
      "url = '%s/%d.%d' % (tile_prefix, level, offset)\n",
      "print url\n",
      "urllib2.urlopen(url).read()"
     ],
     "language": "python",
     "metadata": {},
     "outputs": [
      {
       "output_type": "stream",
       "stream": "stdout",
       "text": [
        "http://esdr.ece.cmu.edu/api/v1/feeds/6/channels/PM25B_UG_M3/tiles\n",
        "http://esdr.ece.cmu.edu/api/v1/feeds/6/channels/PM25B_UG_M3/tiles/30.0\n"
       ]
      },
      {
       "metadata": {},
       "output_type": "pyout",
       "prompt_number": 37,
       "text": [
        "'{\"code\":200,\"status\":\"success\",\"data\":{\"data\":[[1412485200,8,0,1],[1412488800,8,0,1],[1412492400,7,0,1],[1412496000,7,0,1],[1412499600,10,0,1],[1412503200,7,0,1],[1412506800,5,0,1],[1412510400,7,0,1],[1412514000,9,0,1],[1412517600,10,0,1],[1412521200,9,0,1],[1412524800,9,0,1],[1412528400,9,0,1],[1412532000,10,0,1],[1412535600,17,0,1],[1412539200,13,0,1],[1412542800,16,0,1],[1412546400,9,0,1],[1412550000,8,0,1],[1412553600,8,0,1],[1412557200,8,0,1],[1412560800,5,0,1],[1412564400,2,0,1],[1412568000,5,0,1],[1412571600,5,0,1],[1412575200,3,0,1],[1412578800,4,0,1],[1412582400,3,0,1],[1412586000,3,0,1],[1412589600,6,0,1],[1412593200,5,0,1],[1412596800,3,0,1],[1412600400,8,0,1],[1412604000,11,0,1],[1412607600,7,0,1],[1412611200,7,0,1],[1412614800,10,0,1],[1412618400,9,0,1],[1412622000,9,0,1],[1412625600,11,0,1],[1412629200,9,0,1],[1412632800,7,0,1],[1412636400,6,0,1],[1412640000,6,0,1],[1412643600,5,0,1],[1412647200,3,0,1],[1412650800,7,0,1],[1412654400,7,0,1],[1412658000,4,0,1],[1412661600,4,0,1],[1412665200,5,0,1],[1412668800,5,0,1],[1412672400,3,0,1],[1412676000,2,0,1],[1412679600,0,0,1],[1412683200,1,0,1],[1412686800,6,0,1],[1412690400,7,0,1],[1412694000,5,0,1],[1412697600,6,0,1],[1412701200,6,0,1],[1412704800,5,0,1],[1412708400,7,0,1],[1412712000,7,0,1],[1412715600,6,0,1],[1412719200,8,0,1],[1412722800,6,0,1],[1412726400,5,0,1],[1412730000,8,0,1],[1412733600,7,0,1],[1412737200,7,0,1],[1412740800,9,0,1],[1412744400,7,0,1],[1412748000,7,0,1],[1412751600,9,0,1],[1412755200,9,0,1],[1412758800,7,0,1],[1412762400,5,0,1],[1412766000,6,0,1],[1412769600,6,0,1],[1412773200,8,0,1],[1412776800,7,0,1],[1412780400,4,0,1],[1412784000,6,0,1],[1412787600,8,0,1],[1412791200,9,0,1],[1412794800,9,0,1],[1412798400,11,0,1],[1412802000,11,0,1],[1412805600,6,0,1],[1412809200,7,0,1],[1412812800,11,0,1],[1412816400,9,0,1],[1412820000,6,0,1],[1412823600,7,0,1],[1412827200,7,0,1],[1412830800,5,0,1],[1412834400,7,0,1],[1412838000,9,0,1],[1412841600,7,0,1],[1412845200,9,0,1],[1412848800,8,0,1],[1412852400,8,0,1],[1412856000,10,0,1],[1412859600,16,0,1],[1412863200,15,0,1],[1412866800,15,0,1],[1412870400,10,0,1],[1412874000,10,0,1],[1412877600,9,0,1],[1412881200,8,0,1],[1412884800,7,0,1],[1412888400,7,0,1],[1412892000,10,0,1],[1412895600,9,0,1],[1412899200,8,0,1],[1412902800,9,0,1],[1412906400,7,0,1],[1412910000,6,0,1],[1412913600,7,0,1],[1412917200,8,0,1],[1412920800,8,0,1],[1412924400,10,0,1],[1412928000,11,0,1],[1412931600,19,0,1],[1412935200,19,0,1],[1412938800,21,0,1],[1412942400,16,0,1],[1412946000,9,0,1],[1412949600,984,0,1],[1412953200,984,0,1],[1412956800,8,0,1],[1412960400,19,0,1],[1412964000,14,0,1],[1412967600,12,0,1],[1412971200,10,0,1],[1412974800,16,0,1],[1412978400,13,0,1],[1412982000,20,0,1],[1412985600,13,0,1],[1412989200,12,0,1],[1412992800,12,0,1],[1412996400,13,0,1],[1413000000,12,0,1],[1413003600,10,0,1],[1413007200,8,0,1],[1413010800,6,0,1],[1413014400,5,0,1],[1413018000,5,0,1],[1413021600,4,0,1],[1413025200,6,0,1],[1413028800,8,0,1],[1413032400,5,0,1],[1413036000,3,0,1],[1413039600,7,0,1],[1413043200,8,0,1],[1413046800,7,0,1],[1413050400,6,0,1],[1413054000,2,0,1],[1413057600,1,0,1],[1413061200,2,0,1],[1413064800,3,0,1],[1413068400,5,0,1],[1413072000,6,0,1],[1413075600,8,0,1],[1413079200,7,0,1],[1413082800,4,0,1],[275584448344,-1e+308,0,0]],\"fields\":[\"time\",\"mean\",\"stddev\",\"count\"],\"level\":30,\"offset\":0,\"type\":\"value\"}}'"
       ]
      }
     ],
     "prompt_number": 37
    },
    {
     "cell_type": "code",
     "collapsed": false,
     "input": [
      "# iframe_with_source wraps HTML+javascript into an iframe, to avoid DOM and javascript conflicts\n",
      "\n",
      "from IPython.display import HTML\n",
      "import json\n",
      "\n",
      "def iframe_with_source(source, height='200px'):\n",
      "    name = 'iframe-%d' % get_ipython().execution_count\n",
      "    source = json.dumps(source).replace('</script', '</scr\"+\"ipt')\n",
      "    template = \"\"\"\n",
      "<iframe id=\"%s\" style=\"width:100%%; height:%s\"></iframe>\n",
      "<script>\n",
      "document.getElementById('%s').srcdoc = %s;\n",
      "</script>\n",
      "\"\"\"\n",
      "    # Fill in the %s slots with id, width, height, and the HTML source\n",
      "    return HTML(template % (name, height, name, source))"
     ],
     "language": "python",
     "metadata": {},
     "outputs": [],
     "prompt_number": 38
    },
    {
     "cell_type": "code",
     "collapsed": false,
     "input": [
      "src = \"\"\"\n",
      "<html>\n",
      "<head>\n",
      "<script src=\"http://ajax.googleapis.com/ajax/libs/jquery/1.10.2/jquery.min.js\"></script>\n",
      "<script src=\"http://api.cmucreatelab.org/timeline-chart-0.1/grapher2.nocache.js\"></script>\n",
      "<style type=\"text/css\">\n",
      "body {\n",
      "   font-family: \"Gill Sans Light\", Verdana, Arial, sans-serif !important;\n",
      "   font-size: 10pt !important;\n",
      "}\n",
      "\n",
      "</style>\n",
      "<script>\n",
      "console.log('1');\n",
      "var series = [];\n",
      "var dateAxis;\n",
      "var fluxtream_credentials = null;\n",
      "\n",
      "var channels = [\n",
      "    {\n",
      "        channel:'PolarStrap.BeatSpacing',\n",
      "        styles: [\n",
      "            {\n",
      "                type: \"line\",\n",
      "                lineWidth: 1,\n",
      "                show: true,\n",
      "                color: \"#0000ff\"\n",
      "            }\n",
      "        ],\n",
      "        highlight: {\n",
      "            lineWidth: 1,\n",
      "            styles: [\n",
      "                {\n",
      "                    show: true,\n",
      "                    type: \"value\",\n",
      "                    fillColor: \"#ff0000\",\n",
      "                    marginWidth: 10,\n",
      "                    font: \"7pt Helvetica,Arial,Verdana,sans-serif\",\n",
      "                    verticalOffset: 7,\n",
      "                    numberFormat: \"###,##0.0##\"\n",
      "                }\n",
      "            ]\n",
      "        }\n",
      "    }\n",
      "];\n",
      "\n",
      "function axisChangeListener(evt) {\n",
      "  var cmd = \"fluxtream_date_axis_json = '\" + JSON.stringify(evt) + \"'\";\n",
      "  parent.IPython.notebook.kernel.execute(cmd);\n",
      "}\n",
      "\n",
      "window.grapherLoad = function() {\n",
      "    console.log('10');\n",
      "    init();\n",
      "}\n",
      "\n",
      "function init() {\n",
      "    console.log('init');\n",
      "    dateAxis = new DateAxis(\"dateAxis\", \"horizontal\", {min: new Date().getTime() / 1000 - 86400, max: new Date().getTime() / 1000});\n",
      "    dateAxis.addAxisChangeListener(axisChangeListener);\n",
      "\n",
      "    for (var i = 0; i < channels.length; i++) {\n",
      "        series[i] = {}\n",
      "        series[i].axis = new NumberAxis('series' + i + 'axis', \"vertical\", {min: 0, max: 10});\n",
      "\n",
      "        var datasource = function(level, offset, successCallback, failureCallback) {\n",
      "            console.log('hi, looking for ' + level + '.' + offset);\n",
      "            $.ajax({\n",
      "                url:  'http://esdr.ece.cmu.edu/api/v1/feeds/6/channels/PM25B_UG_M3/tiles/'\n",
      "                    + level + '.' + offset,\n",
      "                success:function(data){console.log(JSON.stringify(data.data));successCallback(JSON.stringify(data.data))},\n",
      "                failure:failureCallback\n",
      "            });\n",
      "        }\n",
      "        var plot = new DataSeriesPlot(datasource, dateAxis, series[i].axis, {});\n",
      "        plot.setStyle({\n",
      "            styles: channels[i].styles,\n",
      "            highlight: channels[i].highlight\n",
      "        });\n",
      "        series[i].pc = new PlotContainer('series' + i, false, [plot]);\n",
      "    }\n",
      "    $(window).resize(setSizes);\n",
      "    setSizes();\n",
      "}\n",
      "\n",
      "function setSizes() {\n",
      "   dateAxis.setSize($('#dateAxis').width(), $(\"#dateAxis\").height(), SequenceNumber.getNext());\n",
      "   for (var i = 0; i < channels.length; i++) {\n",
      "     series[i].axis.setSize($('#series'+i+'axis').width(), $('#series'+i+'axis').height(), SequenceNumber.getNext());\n",
      "     series[i].pc.setSize($('#series'+i).width(), $('#series'+i).height(), SequenceNumber.getNext());\n",
      "   }\n",
      "}\n",
      "\n",
      "function displayValue(val) {\n",
      "   $(\"#valueLabel\").html(val ? val['dateString'] + \" \" + val['valueString'] : \"\");\n",
      "}\n",
      "\n",
      "</script>\n",
      "</head>\n",
      "<body>\n",
      "<div style=\"width:100%; height:39px\">\n",
      "<div id=\"dateAxis\" style=\"position: fixed; left:100px; right:30px; height:37px; border:1px solid black\"></div>\n",
      "</div>\n",
      "<div style=\"width:100%; height:150px; margin-top:-1px\">\n",
      "<div id=\"series0title\" style=\"position: fixed; left:0px; width:99px; height:148px; border:1px solid black\"></div>\n",
      "<div id=\"series0\" style=\"position: fixed; left:100px; right:30px; height:148px; border:1px solid black\"></div>\n",
      "<div id=\"series0axis\" style=\"position: fixed; right:0px; width:29px; height:148px; border:1px solid black\"></div>\n",
      "</div>\n",
      "<canvas id=\"narrow\" style=\"width:100%; height:73px\"></canvas>\n",
      "</body>\n",
      "</html>\n",
      "\"\"\"\n",
      "\n",
      "iframe_with_source(src, height='200px')"
     ],
     "language": "python",
     "metadata": {},
     "outputs": [
      {
       "html": [
        "\n",
        "<iframe id=\"iframe-41\" style=\"width:100%; height:200px\"></iframe>\n",
        "<script>\n",
        "document.getElementById('iframe-41').srcdoc = \"\\n<html>\\n<head>\\n<script src=\\\"http://ajax.googleapis.com/ajax/libs/jquery/1.10.2/jquery.min.js\\\"></scr\"+\"ipt>\\n<script src=\\\"http://api.cmucreatelab.org/timeline-chart-0.1/grapher2.nocache.js\\\"></scr\"+\"ipt>\\n<style type=\\\"text/css\\\">\\nbody {\\n   font-family: \\\"Gill Sans Light\\\", Verdana, Arial, sans-serif !important;\\n   font-size: 10pt !important;\\n}\\n\\n</style>\\n<script>\\nconsole.log('1');\\nvar series = [];\\nvar dateAxis;\\nvar fluxtream_credentials = null;\\n\\nvar channels = [\\n    {\\n        channel:'PolarStrap.BeatSpacing',\\n        styles: [\\n            {\\n                type: \\\"line\\\",\\n                lineWidth: 1,\\n                show: true,\\n                color: \\\"#0000ff\\\"\\n            }\\n        ],\\n        highlight: {\\n            lineWidth: 1,\\n            styles: [\\n                {\\n                    show: true,\\n                    type: \\\"value\\\",\\n                    fillColor: \\\"#ff0000\\\",\\n                    marginWidth: 10,\\n                    font: \\\"7pt Helvetica,Arial,Verdana,sans-serif\\\",\\n                    verticalOffset: 7,\\n                    numberFormat: \\\"###,##0.0##\\\"\\n                }\\n            ]\\n        }\\n    }\\n];\\n\\nfunction axisChangeListener(evt) {\\n  var cmd = \\\"fluxtream_date_axis_json = '\\\" + JSON.stringify(evt) + \\\"'\\\";\\n  parent.IPython.notebook.kernel.execute(cmd);\\n}\\n\\nwindow.grapherLoad = function() {\\n    console.log('10');\\n    init();\\n}\\n\\nfunction init() {\\n    console.log('init');\\n    dateAxis = new DateAxis(\\\"dateAxis\\\", \\\"horizontal\\\", {min: new Date().getTime() / 1000 - 86400, max: new Date().getTime() / 1000});\\n    dateAxis.addAxisChangeListener(axisChangeListener);\\n\\n    for (var i = 0; i < channels.length; i++) {\\n        series[i] = {}\\n        series[i].axis = new NumberAxis('series' + i + 'axis', \\\"vertical\\\", {min: 0, max: 10});\\n\\n        var datasource = function(level, offset, successCallback, failureCallback) {\\n            console.log('hi, looking for ' + level + '.' + offset);\\n            $.ajax({\\n                url:  'http://esdr.ece.cmu.edu/api/v1/feeds/6/channels/PM25B_UG_M3/tiles/'\\n                    + level + '.' + offset,\\n                success:function(data){console.log(JSON.stringify(data.data));successCallback(JSON.stringify(data.data))},\\n                failure:failureCallback\\n            });\\n        }\\n        var plot = new DataSeriesPlot(datasource, dateAxis, series[i].axis, {});\\n        plot.setStyle({\\n            styles: channels[i].styles,\\n            highlight: channels[i].highlight\\n        });\\n        series[i].pc = new PlotContainer('series' + i, false, [plot]);\\n    }\\n    $(window).resize(setSizes);\\n    setSizes();\\n}\\n\\nfunction setSizes() {\\n   dateAxis.setSize($('#dateAxis').width(), $(\\\"#dateAxis\\\").height(), SequenceNumber.getNext());\\n   for (var i = 0; i < channels.length; i++) {\\n     series[i].axis.setSize($('#series'+i+'axis').width(), $('#series'+i+'axis').height(), SequenceNumber.getNext());\\n     series[i].pc.setSize($('#series'+i).width(), $('#series'+i).height(), SequenceNumber.getNext());\\n   }\\n}\\n\\nfunction displayValue(val) {\\n   $(\\\"#valueLabel\\\").html(val ? val['dateString'] + \\\" \\\" + val['valueString'] : \\\"\\\");\\n}\\n\\n</scr\"+\"ipt>\\n</head>\\n<body>\\n<div style=\\\"width:100%; height:39px\\\">\\n<div id=\\\"dateAxis\\\" style=\\\"position: fixed; left:100px; right:30px; height:37px; border:1px solid black\\\"></div>\\n</div>\\n<div style=\\\"width:100%; height:150px; margin-top:-1px\\\">\\n<div id=\\\"series0title\\\" style=\\\"position: fixed; left:0px; width:99px; height:148px; border:1px solid black\\\"></div>\\n<div id=\\\"series0\\\" style=\\\"position: fixed; left:100px; right:30px; height:148px; border:1px solid black\\\"></div>\\n<div id=\\\"series0axis\\\" style=\\\"position: fixed; right:0px; width:29px; height:148px; border:1px solid black\\\"></div>\\n</div>\\n<canvas id=\\\"narrow\\\" style=\\\"width:100%; height:73px\\\"></canvas>\\n</body>\\n</html>\\n\";\n",
        "</script>\n"
       ],
       "metadata": {},
       "output_type": "pyout",
       "prompt_number": 41,
       "text": [
        "<IPython.core.display.HTML at 0x106c396d0>"
       ]
      }
     ],
     "prompt_number": 41
    },
    {
     "cell_type": "code",
     "collapsed": false,
     "input": [
      "0 in [-1, -2]"
     ],
     "language": "python",
     "metadata": {},
     "outputs": [
      {
       "metadata": {},
       "output_type": "pyout",
       "prompt_number": 40,
       "text": [
        "False"
       ]
      }
     ],
     "prompt_number": 40
    },
    {
     "cell_type": "code",
     "collapsed": false,
     "input": [],
     "language": "python",
     "metadata": {},
     "outputs": []
    }
   ],
   "metadata": {}
  }
 ]
}