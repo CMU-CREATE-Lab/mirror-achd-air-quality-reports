{
 "metadata": {
  "name": "",
  "signature": "sha256:4a4e0dc2590fdd64288f350d2faec96b7000e33e39b9627448ed3163c530bade"
 },
 "nbformat": 3,
 "nbformat_minor": 0,
 "worksheets": [
  {
   "cells": [
    {
     "cell_type": "markdown",
     "metadata": {},
     "source": [
      "Parse And Upload ACHD\n",
      "=====================\n",
      "\n",
      "Convert PDF reports to JSON-formatted data for ESDR upload"
     ]
    },
    {
     "cell_type": "code",
     "collapsed": false,
     "input": [
      "import datetime, fcntl, glob, json, math, os, re, subprocess, sys, time, xml.dom.minidom\n",
      "from dateutil import tz\n",
      "\n",
      "# To install dateutil on Ubuntu\n",
      "# sudo pip install python-dateutil\n",
      "\n",
      "def exec_ipynb(url):\n",
      "    import json, re, urllib2\n",
      "    nb = (urllib2.urlopen(url) if re.match(r'https?:', url) else open(url)).read()\n",
      "    exec '\\n'.join([''.join(cell['input']) for cell in json.loads(nb)['worksheets'][0]['cells'] if cell['cell_type'] == 'code']) in globals()\n",
      "\n",
      "exec_ipynb('esdr-library.ipynb')"
     ],
     "language": "python",
     "metadata": {},
     "outputs": [],
     "prompt_number": 1
    },
    {
     "cell_type": "code",
     "collapsed": false,
     "input": [
      "# Force reprocessing of earlier uploaded files\n",
      "force_reprocess = False\n",
      "\n",
      "# Cache PDF to XML, in case of future reprocessing\n",
      "enable_pdf_to_xml_cache = False"
     ],
     "language": "python",
     "metadata": {},
     "outputs": [],
     "prompt_number": 3
    },
    {
     "cell_type": "markdown",
     "metadata": {},
     "source": [
      "pdf2txt\n",
      "-------\n",
      "\n",
      "If you don't have pdf2txt or pdf2txt.py in your path, you'll need to install.\n",
      "See below for suggestions how to do so."
     ]
    },
    {
     "cell_type": "code",
     "collapsed": false,
     "input": [
      "pdf2txt_candidates = ['pdf2txt', 'pdf2txt.py']\n",
      "pdf2txt_path = None\n",
      "\n",
      "for candidate in pdf2txt_candidates:\n",
      "    try:\n",
      "        pdf2txt_path = subprocess.check_output(['which', candidate]).rstrip()\n",
      "    except:\n",
      "        pass\n",
      "\n",
      "if not pdf2txt_path:\n",
      "    msg = 'Cannot find any of %s.\\n' % pdf2txt_candidates\n",
      "    msg += 'Please install pdf2txt.\\n'\n",
      "    msg += 'Ubuntu: sudo apt-get install python-pdfminer\\n'\n",
      "    msg += 'Mac: sudo port install py27-pdfminer\\n'\n",
      "    raise Exception(msg)\n",
      "    \n",
      "print 'Using pdf2txt from %s' % pdf2txt_path"
     ],
     "language": "python",
     "metadata": {},
     "outputs": [
      {
       "output_type": "stream",
       "stream": "stdout",
       "text": [
        "Using pdf2txt from /usr/bin/pdf2txt\n"
       ]
      }
     ],
     "prompt_number": 4
    },
    {
     "cell_type": "markdown",
     "metadata": {},
     "source": [
      "Timezone\n",
      "--------"
     ]
    },
    {
     "cell_type": "code",
     "collapsed": false,
     "input": [
      "achd_tz = tz.tzoffset(\"EST\", -5 * 3600)\n",
      "\n",
      "# Allegheny health department always reports in Eastern Standard Time,\n",
      "# even when Pittsburgh observes Eastern Daylight Time during the summer.\n",
      "\n",
      "# In other words, ACHD times look correct in the winter, but are appear\n",
      "# to be one hour behind people's clocks during the summer.\n",
      "\n",
      "# For example, if during the summer, if\n",
      "# ACHD reports 3pm Eastern Standard Time,\n",
      "# that would correspond to 4pm Eastern Daylight Time.\n",
      "\n",
      "# Test that timezone has offset 5 hours (EST) both during summer and winter\n",
      "\n",
      "# Test this timezone.  Confirm epoch time of midnight 1/1/70 was 5 hours\n",
      "date = datetime.datetime.strptime('1/1/1970 00:00', '%m/%d/%Y %H:%M').replace(tzinfo=achd_tz)\n",
      "epoch = (date - datetime.datetime(1970, 1, 1, tzinfo=tz.tzutc())).total_seconds()\n",
      "if epoch != 5 * 3600:\n",
      "    raise Exception(\"Error in timezone\")\n",
      "\n",
      "date = datetime.datetime.strptime('7/1/1970 00:00', '%m/%d/%Y %H:%M').replace(tzinfo=achd_tz)\n",
      "epoch = (date - datetime.datetime(1970, 1, 1, tzinfo=tz.tzutc())).total_seconds()\n",
      "if epoch % 86400 != 5 * 3600:\n",
      "    raise Exception(\"Error in timezone\")"
     ],
     "language": "python",
     "metadata": {},
     "outputs": [],
     "prompt_number": 5
    },
    {
     "cell_type": "code",
     "collapsed": false,
     "input": [
      "class Point:\n",
      "    def __init__(self, x, y):\n",
      "        self.x = x\n",
      "        self.y = y\n",
      "        \n",
      "    def __sub__(self, rhs):\n",
      "        return Point(self.x - rhs.x, self.y - rhs.y)\n",
      "        \n",
      "    def __repr__(self):\n",
      "        return 'Point2(%g, %g)' % (self.x, self.y)\n",
      "\n",
      "class Bbox:\n",
      "    def __init__(self, str):\n",
      "        (self.left, self.top, self.right, self.bottom) = [float(e) for e in str.split(',')]\n",
      "        \n",
      "    def __repr__(self):\n",
      "        return 'Bbox(%g, %g, %g, %g)' % (self.top, self.left, self.bottom, self.right)\n",
      "    \n",
      "    def center(self):\n",
      "        return Point(0.5 * (self.left + self.right), 0.5 * (self.top + self.bottom))\n",
      "    \n",
      "    def width(self):\n",
      "        return self.right - self.left\n",
      "    \n",
      "    def height(self):\n",
      "        return self.bottom - self.top"
     ],
     "language": "python",
     "metadata": {},
     "outputs": [],
     "prompt_number": 6
    },
    {
     "cell_type": "code",
     "collapsed": false,
     "input": [
      "# Enable parsing PDF\n",
      "enable_parse = True\n",
      "\n",
      "# Enable upload of PDF\n",
      "enable_upload = True\n",
      "\n",
      "esdr = None\n",
      "esdr_product = None\n",
      "\n",
      "log_lines = []\n",
      "\n",
      "def reset_log():\n",
      "    global log_lines\n",
      "    log_lines = []\n",
      "    \n",
      "def log(msg):\n",
      "    global log_lines\n",
      "    print msg\n",
      "    log_lines.append(datetime.datetime.now(tz.tzlocal()).strftime('%Y-%m-%d %H:%M:%S%z') + ' ' + msg)\n",
      "    \n",
      "def get_log():\n",
      "    return '\\n'.join(log_lines)\n",
      "    \n",
      "def epoch_time(dt):\n",
      "    epoch = datetime.datetime(1970, 1, 1, tzinfo=tz.tzutc())\n",
      "    return (dt - epoch).total_seconds()    \n",
      "\n",
      "def sanitize_name(name):\n",
      "    return re.sub('\\W', '_', name.encode('utf8'))\n",
      "\n",
      "\n",
      "def process_achd_site(achd_site, base_datetime, achd_table):\n",
      "    global global_achd_site\n",
      "    global global_base_datetime\n",
      "    global global_achd_table\n",
      "    global_achd_site = achd_site\n",
      "    global_base_datetime = base_datetime\n",
      "    global_achd_table = achd_table\n",
      "    # Replace non-alphanum with underscores in achd_site\n",
      "    devname = \"%s\" % (re.sub('\\W+', ' ',achd_site))\n",
      "    channel_names = []\n",
      "\n",
      "    # Process the header into channel names\n",
      "    for i in range (1, len(achd_table[0])):\n",
      "        channel_names.append(sanitize_name('%s_%s' % (achd_table[0][i], achd_table[1][i])))\n",
      "    \n",
      "    data = []\n",
      "\n",
      "    for i in range (2, len(achd_table)):\n",
      "        row = achd_table[i]\n",
      "        \n",
      "        # Add base_datetime to the first column of the row, which is the local time within that date\n",
      "        local_row_hour =  datetime.datetime.strptime(row[0], '%H:%M')\n",
      "        local_row_datetime = base_datetime.replace(hour=local_row_hour.hour).replace(tzinfo=achd_tz)\n",
      "        # Offset time by 1800 seconds so we're at the center of the hour-long sample\n",
      "        unix_ts = epoch_time(local_row_datetime) + 1800\n",
      "        \n",
      "        # data_row starts with epoch time\n",
      "        data_row = [unix_ts]\n",
      "        \n",
      "        # Add all samples to data_row.  Add false for missing or unparsable data\n",
      "        for j in range (1, len(row)):\n",
      "            try:\n",
      "                val_str = row[j].encode('utf8')\n",
      "                if \" \" in val_str:\n",
      "                    # condensation\n",
      "                    val_elts = val_str.split(' ')\n",
      "                    val_str = val_elts[0]\n",
      "                    annotation = val_elts[1]\n",
      "                    #print \"Ignoring annotation %s on %s, using %s [%d][%d]\" % (annotation, row[j], val_str, i, j)\n",
      "                data_row.append(float(val_str))\n",
      "            except:\n",
      "                data_row.append(False)\n",
      "        \n",
      "        data.append(data_row)\n",
      "    if enable_upload:\n",
      "        global esdr, esdr_product\n",
      "        if not esdr:\n",
      "            esdr = Esdr()\n",
      "        esdr_product = esdr.get_product_by_name('ACHD')\n",
      "        device = esdr.get_or_create_device(esdr_product, devname)\n",
      "        feed = esdr.get_or_create_feed(device)\n",
      "        before = time.time()\n",
      "        esdr.upload(feed, {\n",
      "            'channel_names': channel_names,\n",
      "            'data': data\n",
      "        });\n",
      "        \n",
      "        \n",
      "        log(\"Uploaded to devname=%s, channels=%s, starting %s.  Upload took %.1f seconds\" % \n",
      "            (devname, channel_names, base_datetime, time.time() - before))"
     ],
     "language": "python",
     "metadata": {},
     "outputs": [],
     "prompt_number": 7
    },
    {
     "cell_type": "code",
     "collapsed": false,
     "input": [
      "def parse_textline(textline):\n",
      "    bbox = Bbox(textline.getAttribute('bbox'))\n",
      "    text = ''.join([elt.firstChild.nodeValue for elt in textline.getElementsByTagName('text')])\n",
      "    return {'bbox':bbox, 'text': text}\n",
      "\n",
      "def process_page(page):\n",
      "    textlines = [parse_textline(textline) for textline in page.getElementsByTagName('textline')]\n",
      "\n",
      "    # Find site\n",
      "    site = None\n",
      "\n",
      "    for (i, textline) in enumerate(textlines):\n",
      "        if textline['text'].strip() == 'Site:':\n",
      "            site_textline = textlines[i + 1]\n",
      "            deltapos = textline['bbox'].center() - site_textline['bbox'].center()\n",
      "        \n",
      "            if abs(deltapos.y) > 3:\n",
      "                raise Exception('Confused about y location while trying to locate site')\n",
      "        \n",
      "            if deltapos.x > 0 or deltapos.x < -100:\n",
      "                raise Exception('Confused about x location while trying to locate site')\n",
      "        \n",
      "            if site:\n",
      "                raise Exception('Found more than one site?')\n",
      "        \n",
      "            site = site_textline['text'].strip()\n",
      "\n",
      "    if not site:\n",
      "        raise Exception(\"Couldn't parse site\")\n",
      "\n",
      "    # Find date\n",
      "    date = None\n",
      "    for textline in textlines:\n",
      "        if re.match(r'\\d+/\\d+/\\d+$', textline['text'].strip()):\n",
      "            if date:\n",
      "                raise Exception('Found more than one date?')\n",
      "            date = datetime.datetime.strptime(textline['text'].strip(), '%m/%d/%Y')\n",
      "\n",
      "    if not date:\n",
      "        raise Exception(\"Couldn't find date\")\n",
      "\n",
      "    toprow = None\n",
      "    bottomrow = None\n",
      "    columns = []\n",
      "\n",
      "    # Find row locations\n",
      "    for textline in textlines:\n",
      "        if textline['text'].strip() == '00:00':\n",
      "            if toprow:\n",
      "                raise Exception('Found more than one toprow?')\n",
      "            toprow = textline['bbox'].center().y\n",
      "            columns.append(textline['bbox'].center().x)\n",
      "        if textline['text'].strip() == '23:00':\n",
      "            if bottomrow:\n",
      "                raise Exception('Found more than one bottomrow?')\n",
      "            bottomrow = textline['bbox'].center().y\n",
      "\n",
      "    if not toprow or not bottomrow:\n",
      "        raise Exception(\"Couldn't find row landmarks\")\n",
      "\n",
      "    def compute_row(textline):\n",
      "        fraction = (toprow - textline['bbox'].center().y) / float(toprow - bottomrow)\n",
      "        row = round((fraction * 23) + 2)\n",
      "        if (row < 0 or row > 25):\n",
      "            return None\n",
      "        return int(row)\n",
      "\n",
      "    # Find columns\n",
      "    for textline in textlines:\n",
      "        if 0 == compute_row(textline):\n",
      "            columns.append(textline['bbox'].center().x)\n",
      "\n",
      "    columns = sorted(columns)\n",
      "\n",
      "    def compute_col(textline):\n",
      "        x = textline['bbox'].center().x\n",
      "        best = 0\n",
      "        for i in range(0, len(columns)):\n",
      "            if abs(x - columns[i]) < abs(x - columns[best]):\n",
      "                best = i\n",
      "        return best\n",
      "\n",
      "    table = [[False] * len(columns) for row in range(0, 26)]\n",
      "\n",
      "    # Build table\n",
      "    # Find columns\n",
      "    for textline in textlines:\n",
      "        row = compute_row(textline)\n",
      "        if row != None:\n",
      "            col = compute_col(textline)\n",
      "            table[row][col] = textline['text'].strip()\n",
      "\n",
      "    process_achd_site(site, date, table)\n",
      "    \n",
      "def process_doc(doc, pages):\n",
      "    for (pageno, page) in enumerate(doc.getElementsByTagName('page')):\n",
      "        if not (pageno in pages):\n",
      "            continue\n",
      "        log('-----------Processing page %d' % pageno)\n",
      "        process_page(page)\n",
      "        sys.stdout.flush()\n",
      "\n",
      "\n",
      "\n",
      "def pdf_to_xml(pdf_path):\n",
      "    cache_file = pdf_path + '.cache.xml'\n",
      "    if enable_pdf_to_xml_cache and os.path.exists(cache_file):\n",
      "        print 'Using %s from cache' % (cache_file)\n",
      "        return open(cache_file).read()\n",
      "    else:\n",
      "        log('Converting %s to xml' % pdf_path)\n",
      "        start_time = time.time()\n",
      "        xml_content = subprocess.check_output([pdf2txt_path, '-t', 'xml', pdf_path])\n",
      "        print 'pdf %s length %d converted to xml length %d in %.1f seconds' % (pdf_path, os.stat(pdf_path).st_size, len(xml_content), time.time() - start_time)\n",
      "        if enable_pdf_to_xml_cache:\n",
      "            tmp_file = '%s.tmp.%d' % (cache_file, os.getpid())\n",
      "            open(tmp_file, 'w').write(xml_content)\n",
      "            os.rename(tmp_file, cache_file)\n",
      "            print 'xml written to %s' % cache_file\n",
      "        return xml_content"
     ],
     "language": "python",
     "metadata": {},
     "outputs": [],
     "prompt_number": 9
    },
    {
     "cell_type": "code",
     "collapsed": false,
     "input": [
      "mirror_dir = 'mirror'\n",
      "done_dir = 'upload-to-esdr'\n",
      "\n",
      "def compute_done_path(pdf_path):\n",
      "    try:\n",
      "        os.mkdir(done_dir)\n",
      "    except OSError:\n",
      "        pass\n",
      "    return done_dir + '/' + os.path.basename(os.path.splitext(pdf_path)[0]) + '.successful-upload'\n",
      "\n",
      "def find_last_uploaded_pdf():\n",
      "    try:\n",
      "        last_done = sorted(glob.glob(done_dir + '/*.successful-upload'))[-1]\n",
      "    except:\n",
      "        return None\n",
      "    return 'mirror/' + os.path.splitext(os.path.basename(last_done))[0] + '.PDF'\n",
      "\n",
      "\n",
      "def process_pdf(pdf_path, pages=range(0, 1000)):\n",
      "    reset_log()\n",
      "    xml_content = pdf_to_xml(pdf_path)\n",
      "    if not enable_parse:\n",
      "        print 'Parse disabled'\n",
      "        return\n",
      "    log('Parsing and uploading %s' % pdf_path)\n",
      "    start_time = time.time()\n",
      "    doc = xml.dom.minidom.parseString(xml_content)\n",
      "    process_doc(doc, pages)\n",
      "    if enable_upload:\n",
      "        done_path = compute_done_path(pdf_path)\n",
      "        open(done_path + '.tmp', 'w').write(get_log())\n",
      "        os.rename(done_path + '.tmp', done_path)\n",
      "    print 'XML parsed and uploaded in %.1f seconds' % (time.time() - start_time)"
     ],
     "language": "python",
     "metadata": {},
     "outputs": [],
     "prompt_number": 10
    },
    {
     "cell_type": "code",
     "collapsed": false,
     "input": [
      "def process_all():\n",
      "    try:\n",
      "        lockfile = open('parse-achd.lockfile','w')\n",
      "        try:\n",
      "            fcntl.flock(lockfile, fcntl.LOCK_EX | fcntl.LOCK_NB)\n",
      "        except IOError:\n",
      "            print 'Instance of parse-and-upload-achd is already running.  Exiting.'\n",
      "            return\n",
      "        last_uploaded_pdf = find_last_uploaded_pdf()\n",
      "        for pdf in sorted(glob.glob('mirror/*.PDF')):\n",
      "            if force_reprocess or not last_uploaded_pdf or pdf > last_uploaded_pdf:\n",
      "                process_pdf(pdf)\n",
      "    finally:\n",
      "        fcntl.flock(lockfile, fcntl.LOCK_UN)\n",
      "\n",
      "process_all()"
     ],
     "language": "python",
     "metadata": {},
     "outputs": [
      {
       "output_type": "stream",
       "stream": "stdout",
       "text": [
        "I would like to process mirror/DailySummary-2014-12-02-10:35:02-0500.PDF\n",
        "Converting mirror/DailySummary-2014-12-02-10:35:02-0500.PDF to xml\n",
        "pdf mirror/DailySummary-2014-12-02-10:35:02-0500.PDF length 792243 converted to xml length 17054482 in 68.7 seconds"
       ]
      },
      {
       "output_type": "stream",
       "stream": "stdout",
       "text": [
        "\n",
        "Parsing and uploading mirror/DailySummary-2014-12-02-10:35:02-0500.PDF\n",
        "-----------Processing page 0"
       ]
      },
      {
       "output_type": "stream",
       "stream": "stdout",
       "text": [
        "\n",
        "Uploaded to devname=Avalon, channels=['BP_MM_HG', 'H2S_PPM', 'INT_T_DEGC', 'OUT_T_DEGC', 'PM25B_UG_M3', 'SIGTHETA_DEG', 'SO2_PPM', 'SONICWD_DEG', 'SONICWS_MPH'], starting 2014-11-26 00:00:00.  Upload took 0.1 seconds"
       ]
      },
      {
       "output_type": "stream",
       "stream": "stdout",
       "text": [
        "\n"
       ]
      },
      {
       "output_type": "stream",
       "stream": "stdout",
       "text": [
        "-----------Processing page 1\n",
        "Uploaded to devname=Avalon, channels=['BP_MM_HG', 'H2S_PPM', 'INT_T_DEGC', 'OUT_T_DEGC', 'PM25B_UG_M3', 'SIGTHETA_DEG', 'SO2_PPM', 'SONICWD_DEG', 'SONICWS_MPH'], starting 2014-11-27 00:00:00.  Upload took 0.0 seconds"
       ]
      },
      {
       "output_type": "stream",
       "stream": "stdout",
       "text": [
        "\n"
       ]
      },
      {
       "output_type": "stream",
       "stream": "stdout",
       "text": [
        "-----------Processing page 2\n",
        "Uploaded to devname=Avalon, channels=['BP_MM_HG', 'H2S_PPM', 'INT_T_DEGC', 'OUT_T_DEGC', 'PM25B_UG_M3', 'SIGTHETA_DEG', 'SO2_PPM', 'SONICWD_DEG', 'SONICWS_MPH'], starting 2014-11-28 00:00:00.  Upload took 0.0 seconds"
       ]
      },
      {
       "output_type": "stream",
       "stream": "stdout",
       "text": [
        "\n"
       ]
      },
      {
       "output_type": "stream",
       "stream": "stdout",
       "text": [
        "-----------Processing page 3\n",
        "Uploaded to devname=Avalon, channels=['BP_MM_HG', 'H2S_PPM', 'INT_T_DEGC', 'OUT_T_DEGC', 'PM25B_UG_M3', 'SIGTHETA_DEG', 'SO2_PPM', 'SONICWD_DEG', 'SONICWS_MPH'], starting 2014-11-29 00:00:00.  Upload took 0.0 seconds"
       ]
      },
      {
       "output_type": "stream",
       "stream": "stdout",
       "text": [
        "\n"
       ]
      },
      {
       "output_type": "stream",
       "stream": "stdout",
       "text": [
        "-----------Processing page 4\n",
        "Uploaded to devname=Avalon, channels=['BP_MM_HG', 'H2S_PPM', 'INT_T_DEGC', 'OUT_T_DEGC', 'PM25B_UG_M3', 'SIGTHETA_DEG', 'SO2_PPM', 'SONICWD_DEG', 'SONICWS_MPH'], starting 2014-11-30 00:00:00.  Upload took 0.0 seconds"
       ]
      },
      {
       "output_type": "stream",
       "stream": "stdout",
       "text": [
        "\n"
       ]
      },
      {
       "output_type": "stream",
       "stream": "stdout",
       "text": [
        "-----------Processing page 5\n",
        "Uploaded to devname=Avalon, channels=['BP_MM_HG', 'H2S_PPM', 'INT_T_DEGC', 'OUT_T_DEGC', 'PM25B_UG_M3', 'SIGTHETA_DEG', 'SO2_PPM', 'SONICWD_DEG', 'SONICWS_MPH'], starting 2014-12-01 00:00:00.  Upload took 0.0 seconds"
       ]
      },
      {
       "output_type": "stream",
       "stream": "stdout",
       "text": [
        "\n"
       ]
      },
      {
       "output_type": "stream",
       "stream": "stdout",
       "text": [
        "-----------Processing page 6\n",
        "Uploaded to devname=Avalon, channels=['BP_MM_HG', 'H2S_PPM', 'INT_T_DEGC', 'OUT_T_DEGC', 'PM25B_UG_M3', 'SIGTHETA_DEG', 'SO2_PPM', 'SONICWD_DEG', 'SONICWS_MPH'], starting 2014-12-02 00:00:00.  Upload took 0.0 seconds"
       ]
      },
      {
       "output_type": "stream",
       "stream": "stdout",
       "text": [
        "\n"
       ]
      },
      {
       "output_type": "stream",
       "stream": "stdout",
       "text": [
        "-----------Processing page 7\n",
        "Uploaded to devname=Flag Plaza, channels=['CO_PPM', 'INT_T_DEGC', 'OUT_T_DEGC', 'PER_F_PERCENT', 'PM10_UG_M3'], starting 2014-11-26 00:00:00.  Upload took 0.0 seconds"
       ]
      },
      {
       "output_type": "stream",
       "stream": "stdout",
       "text": [
        "\n"
       ]
      },
      {
       "output_type": "stream",
       "stream": "stdout",
       "text": [
        "-----------Processing page 8\n",
        "Uploaded to devname=Flag Plaza, channels=['CO_PPM', 'INT_T_DEGC', 'OUT_T_DEGC', 'PER_F_PERCENT', 'PM10_UG_M3'], starting 2014-11-27 00:00:00.  Upload took 0.0 seconds"
       ]
      },
      {
       "output_type": "stream",
       "stream": "stdout",
       "text": [
        "\n"
       ]
      },
      {
       "output_type": "stream",
       "stream": "stdout",
       "text": [
        "-----------Processing page 9\n",
        "Uploaded to devname=Flag Plaza, channels=['CO_PPM', 'INT_T_DEGC', 'OUT_T_DEGC', 'PER_F_PERCENT', 'PM10_UG_M3'], starting 2014-11-28 00:00:00.  Upload took 0.0 seconds"
       ]
      },
      {
       "output_type": "stream",
       "stream": "stdout",
       "text": [
        "\n"
       ]
      },
      {
       "output_type": "stream",
       "stream": "stdout",
       "text": [
        "-----------Processing page 10\n",
        "Uploaded to devname=Flag Plaza, channels=['CO_PPM', 'INT_T_DEGC', 'OUT_T_DEGC', 'PER_F_PERCENT', 'PM10_UG_M3'], starting 2014-11-29 00:00:00.  Upload took 0.0 seconds"
       ]
      },
      {
       "output_type": "stream",
       "stream": "stdout",
       "text": [
        "\n"
       ]
      },
      {
       "output_type": "stream",
       "stream": "stdout",
       "text": [
        "-----------Processing page 11\n",
        "Uploaded to devname=Flag Plaza, channels=['CO_PPM', 'INT_T_DEGC', 'OUT_T_DEGC', 'PER_F_PERCENT', 'PM10_UG_M3'], starting 2014-11-30 00:00:00.  Upload took 0.0 seconds"
       ]
      },
      {
       "output_type": "stream",
       "stream": "stdout",
       "text": [
        "\n"
       ]
      },
      {
       "output_type": "stream",
       "stream": "stdout",
       "text": [
        "-----------Processing page 12\n",
        "Uploaded to devname=Flag Plaza, channels=['CO_PPM', 'INT_T_DEGC', 'OUT_T_DEGC', 'PER_F_PERCENT', 'PM10_UG_M3'], starting 2014-12-01 00:00:00.  Upload took 0.0 seconds"
       ]
      },
      {
       "output_type": "stream",
       "stream": "stdout",
       "text": [
        "\n"
       ]
      },
      {
       "output_type": "stream",
       "stream": "stdout",
       "text": [
        "-----------Processing page 13\n",
        "Uploaded to devname=Flag Plaza, channels=['CO_PPM', 'INT_T_DEGC', 'OUT_T_DEGC', 'PER_F_PERCENT', 'PM10_UG_M3'], starting 2014-12-02 00:00:00.  Upload took 0.0 seconds"
       ]
      },
      {
       "output_type": "stream",
       "stream": "stdout",
       "text": [
        "\n"
       ]
      },
      {
       "output_type": "stream",
       "stream": "stdout",
       "text": [
        "-----------Processing page 14\n",
        "Uploaded to devname=Glassport High Street, channels=['PER_F_PERCENT', 'PM10_UG_M3'], starting 2014-11-26 00:00:00.  Upload took 0.0 seconds"
       ]
      },
      {
       "output_type": "stream",
       "stream": "stdout",
       "text": [
        "\n"
       ]
      },
      {
       "output_type": "stream",
       "stream": "stdout",
       "text": [
        "-----------Processing page 15\n",
        "Uploaded to devname=Glassport High Street, channels=['PER_F_PERCENT', 'PM10_UG_M3'], starting 2014-11-27 00:00:00.  Upload took 0.0 seconds"
       ]
      },
      {
       "output_type": "stream",
       "stream": "stdout",
       "text": [
        "\n"
       ]
      },
      {
       "output_type": "stream",
       "stream": "stdout",
       "text": [
        "-----------Processing page 16\n",
        "Uploaded to devname=Glassport High Street, channels=['PER_F_PERCENT', 'PM10_UG_M3'], starting 2014-11-28 00:00:00.  Upload took 0.0 seconds"
       ]
      },
      {
       "output_type": "stream",
       "stream": "stdout",
       "text": [
        "\n"
       ]
      },
      {
       "output_type": "stream",
       "stream": "stdout",
       "text": [
        "-----------Processing page 17\n",
        "Uploaded to devname=Glassport High Street, channels=['PER_F_PERCENT', 'PM10_UG_M3'], starting 2014-11-29 00:00:00.  Upload took 0.0 seconds"
       ]
      },
      {
       "output_type": "stream",
       "stream": "stdout",
       "text": [
        "\n"
       ]
      },
      {
       "output_type": "stream",
       "stream": "stdout",
       "text": [
        "-----------Processing page 18\n",
        "Uploaded to devname=Glassport High Street, channels=['PER_F_PERCENT', 'PM10_UG_M3'], starting 2014-11-30 00:00:00.  Upload took 0.0 seconds"
       ]
      },
      {
       "output_type": "stream",
       "stream": "stdout",
       "text": [
        "\n"
       ]
      },
      {
       "output_type": "stream",
       "stream": "stdout",
       "text": [
        "-----------Processing page 19\n",
        "Uploaded to devname=Glassport High Street, channels=['PER_F_PERCENT', 'PM10_UG_M3'], starting 2014-12-01 00:00:00.  Upload took 0.0 seconds"
       ]
      },
      {
       "output_type": "stream",
       "stream": "stdout",
       "text": [
        "\n"
       ]
      },
      {
       "output_type": "stream",
       "stream": "stdout",
       "text": [
        "-----------Processing page 20\n",
        "Uploaded to devname=Glassport High Street, channels=['PER_F_PERCENT', 'PM10_UG_M3'], starting 2014-12-02 00:00:00.  Upload took 0.0 seconds"
       ]
      },
      {
       "output_type": "stream",
       "stream": "stdout",
       "text": [
        "\n"
       ]
      },
      {
       "output_type": "stream",
       "stream": "stdout",
       "text": [
        "-----------Processing page 21\n",
        "Uploaded to devname=Harrison Township, channels=['INT_T_DEGC', 'NO_PPM', 'NO2_PPM', 'NOX_PPM', 'OZONE_PPM', 'OZONE2_PPM'], starting 2014-11-26 00:00:00.  Upload took 0.0 seconds"
       ]
      },
      {
       "output_type": "stream",
       "stream": "stdout",
       "text": [
        "\n"
       ]
      },
      {
       "output_type": "stream",
       "stream": "stdout",
       "text": [
        "-----------Processing page 22\n",
        "Uploaded to devname=Harrison Township, channels=['INT_T_DEGC', 'NO_PPM', 'NO2_PPM', 'NOX_PPM', 'OZONE_PPM', 'OZONE2_PPM'], starting 2014-11-27 00:00:00.  Upload took 0.0 seconds"
       ]
      },
      {
       "output_type": "stream",
       "stream": "stdout",
       "text": [
        "\n"
       ]
      },
      {
       "output_type": "stream",
       "stream": "stdout",
       "text": [
        "-----------Processing page 23\n",
        "Uploaded to devname=Harrison Township, channels=['INT_T_DEGC', 'NO_PPM', 'NO2_PPM', 'NOX_PPM', 'OZONE_PPM', 'OZONE2_PPM'], starting 2014-11-28 00:00:00.  Upload took 0.0 seconds"
       ]
      },
      {
       "output_type": "stream",
       "stream": "stdout",
       "text": [
        "\n"
       ]
      },
      {
       "output_type": "stream",
       "stream": "stdout",
       "text": [
        "-----------Processing page 24\n",
        "Uploaded to devname=Harrison Township, channels=['INT_T_DEGC', 'NO_PPM', 'NO2_PPM', 'NOX_PPM', 'OZONE_PPM', 'OZONE2_PPM'], starting 2014-11-29 00:00:00.  Upload took 0.0 seconds"
       ]
      },
      {
       "output_type": "stream",
       "stream": "stdout",
       "text": [
        "\n"
       ]
      },
      {
       "output_type": "stream",
       "stream": "stdout",
       "text": [
        "-----------Processing page 25\n",
        "Uploaded to devname=Harrison Township, channels=['INT_T_DEGC', 'NO_PPM', 'NO2_PPM', 'NOX_PPM', 'OZONE_PPM', 'OZONE2_PPM'], starting 2014-11-30 00:00:00.  Upload took 0.0 seconds"
       ]
      },
      {
       "output_type": "stream",
       "stream": "stdout",
       "text": [
        "\n"
       ]
      },
      {
       "output_type": "stream",
       "stream": "stdout",
       "text": [
        "-----------Processing page 26\n",
        "Uploaded to devname=Harrison Township, channels=['INT_T_DEGC', 'NO_PPM', 'NO2_PPM', 'NOX_PPM', 'OZONE_PPM', 'OZONE2_PPM'], starting 2014-12-01 00:00:00.  Upload took 0.0 seconds"
       ]
      },
      {
       "output_type": "stream",
       "stream": "stdout",
       "text": [
        "\n"
       ]
      },
      {
       "output_type": "stream",
       "stream": "stdout",
       "text": [
        "-----------Processing page 27\n",
        "Uploaded to devname=Harrison Township, channels=['INT_T_DEGC', 'NO_PPM', 'NO2_PPM', 'NOX_PPM', 'OZONE_PPM', 'OZONE2_PPM'], starting 2014-12-02 00:00:00.  Upload took 0.1 seconds"
       ]
      },
      {
       "output_type": "stream",
       "stream": "stdout",
       "text": [
        "\n"
       ]
      },
      {
       "output_type": "stream",
       "stream": "stdout",
       "text": [
        "-----------Processing page 28\n",
        "Uploaded to devname=Lawrenceville, channels=['BP_MM_HG', 'INT_T_DEGC', 'OUT_RH_PERCENT', 'OUT_T_DEGC', 'OZONE_PPM', 'OZONE2_PPM', 'PER_F2_PERCENT', 'PM25_UG_M3', 'PM25_2__UG_M3'], starting 2014-11-26 00:00:00.  Upload took 0.1 seconds"
       ]
      },
      {
       "output_type": "stream",
       "stream": "stdout",
       "text": [
        "\n"
       ]
      },
      {
       "output_type": "stream",
       "stream": "stdout",
       "text": [
        "-----------Processing page 29\n",
        "Uploaded to devname=Lawrenceville, channels=['RWD_DEG', 'RWS_MPH', 'SIGTHETA_DEG', 'SONICWD_DEG', 'SONICWS_MPH'], starting 2014-11-26 00:00:00.  Upload took 0.0 seconds"
       ]
      },
      {
       "output_type": "stream",
       "stream": "stdout",
       "text": [
        "\n"
       ]
      },
      {
       "output_type": "stream",
       "stream": "stdout",
       "text": [
        "-----------Processing page 30\n",
        "Uploaded to devname=Lawrenceville, channels=['BP_MM_HG', 'INT_T_DEGC', 'OUT_RH_PERCENT', 'OUT_T_DEGC', 'OZONE_PPM', 'OZONE2_PPM', 'PER_F2_PERCENT', 'PM25_UG_M3', 'PM25_2__UG_M3'], starting 2014-11-27 00:00:00.  Upload took 0.0 seconds"
       ]
      },
      {
       "output_type": "stream",
       "stream": "stdout",
       "text": [
        "\n"
       ]
      },
      {
       "output_type": "stream",
       "stream": "stdout",
       "text": [
        "-----------Processing page 31\n",
        "Uploaded to devname=Lawrenceville, channels=['RWD_DEG', 'RWS_MPH', 'SIGTHETA_DEG', 'SONICWD_DEG', 'SONICWS_MPH'], starting 2014-11-27 00:00:00.  Upload took 0.0 seconds"
       ]
      },
      {
       "output_type": "stream",
       "stream": "stdout",
       "text": [
        "\n"
       ]
      },
      {
       "output_type": "stream",
       "stream": "stdout",
       "text": [
        "-----------Processing page 32\n",
        "Uploaded to devname=Lawrenceville, channels=['BP_MM_HG', 'INT_T_DEGC', 'OUT_RH_PERCENT', 'OUT_T_DEGC', 'OZONE_PPM', 'OZONE2_PPM', 'PER_F2_PERCENT', 'PM25_UG_M3', 'PM25_2__UG_M3'], starting 2014-11-28 00:00:00.  Upload took 0.0 seconds"
       ]
      },
      {
       "output_type": "stream",
       "stream": "stdout",
       "text": [
        "\n"
       ]
      },
      {
       "output_type": "stream",
       "stream": "stdout",
       "text": [
        "-----------Processing page 33\n",
        "Uploaded to devname=Lawrenceville, channels=['RWD_DEG', 'RWS_MPH', 'SIGTHETA_DEG', 'SONICWD_DEG', 'SONICWS_MPH'], starting 2014-11-28 00:00:00.  Upload took 0.0 seconds"
       ]
      },
      {
       "output_type": "stream",
       "stream": "stdout",
       "text": [
        "\n"
       ]
      },
      {
       "output_type": "stream",
       "stream": "stdout",
       "text": [
        "-----------Processing page 34\n",
        "Uploaded to devname=Lawrenceville, channels=['BP_MM_HG', 'INT_T_DEGC', 'OUT_RH_PERCENT', 'OUT_T_DEGC', 'OZONE_PPM', 'OZONE2_PPM', 'PER_F2_PERCENT', 'PM25_UG_M3', 'PM25_2__UG_M3'], starting 2014-11-29 00:00:00.  Upload took 0.1 seconds"
       ]
      },
      {
       "output_type": "stream",
       "stream": "stdout",
       "text": [
        "\n"
       ]
      },
      {
       "output_type": "stream",
       "stream": "stdout",
       "text": [
        "-----------Processing page 35\n",
        "Uploaded to devname=Lawrenceville, channels=['RWD_DEG', 'RWS_MPH', 'SIGTHETA_DEG', 'SONICWD_DEG', 'SONICWS_MPH'], starting 2014-11-29 00:00:00.  Upload took 0.0 seconds"
       ]
      },
      {
       "output_type": "stream",
       "stream": "stdout",
       "text": [
        "\n"
       ]
      },
      {
       "output_type": "stream",
       "stream": "stdout",
       "text": [
        "-----------Processing page 36\n",
        "Uploaded to devname=Lawrenceville, channels=['BP_MM_HG', 'INT_T_DEGC', 'OUT_RH_PERCENT', 'OUT_T_DEGC', 'OZONE_PPM', 'OZONE2_PPM', 'PER_F2_PERCENT', 'PM25_UG_M3', 'PM25_2__UG_M3'], starting 2014-11-30 00:00:00.  Upload took 0.0 seconds"
       ]
      },
      {
       "output_type": "stream",
       "stream": "stdout",
       "text": [
        "\n"
       ]
      },
      {
       "output_type": "stream",
       "stream": "stdout",
       "text": [
        "-----------Processing page 37\n",
        "Uploaded to devname=Lawrenceville, channels=['RWD_DEG', 'RWS_MPH', 'SIGTHETA_DEG', 'SONICWD_DEG', 'SONICWS_MPH'], starting 2014-11-30 00:00:00.  Upload took 0.0 seconds"
       ]
      },
      {
       "output_type": "stream",
       "stream": "stdout",
       "text": [
        "\n"
       ]
      },
      {
       "output_type": "stream",
       "stream": "stdout",
       "text": [
        "-----------Processing page 38\n",
        "Uploaded to devname=Lawrenceville, channels=['BP_MM_HG', 'INT_T_DEGC', 'OUT_RH_PERCENT', 'OUT_T_DEGC', 'OZONE_PPM', 'OZONE2_PPM', 'PER_F2_PERCENT', 'PM25_UG_M3', 'PM25_2__UG_M3'], starting 2014-12-01 00:00:00.  Upload took 0.0 seconds"
       ]
      },
      {
       "output_type": "stream",
       "stream": "stdout",
       "text": [
        "\n"
       ]
      },
      {
       "output_type": "stream",
       "stream": "stdout",
       "text": [
        "-----------Processing page 39\n",
        "Uploaded to devname=Lawrenceville, channels=['RWD_DEG', 'RWS_MPH', 'SIGTHETA_DEG', 'SONICWD_DEG', 'SONICWS_MPH'], starting 2014-12-01 00:00:00.  Upload took 0.0 seconds"
       ]
      },
      {
       "output_type": "stream",
       "stream": "stdout",
       "text": [
        "\n"
       ]
      },
      {
       "output_type": "stream",
       "stream": "stdout",
       "text": [
        "-----------Processing page 40\n",
        "Uploaded to devname=Lawrenceville, channels=['BP_MM_HG', 'INT_T_DEGC', 'OUT_RH_PERCENT', 'OUT_T_DEGC', 'OZONE_PPM', 'OZONE2_PPM', 'PER_F2_PERCENT', 'PM25_UG_M3', 'PM25_2__UG_M3'], starting 2014-12-02 00:00:00.  Upload took 0.0 seconds"
       ]
      },
      {
       "output_type": "stream",
       "stream": "stdout",
       "text": [
        "\n"
       ]
      },
      {
       "output_type": "stream",
       "stream": "stdout",
       "text": [
        "-----------Processing page 41\n",
        "Uploaded to devname=Lawrenceville, channels=['RWD_DEG', 'RWS_MPH', 'SIGTHETA_DEG', 'SONICWD_DEG', 'SONICWS_MPH'], starting 2014-12-02 00:00:00.  Upload took 0.0 seconds"
       ]
      },
      {
       "output_type": "stream",
       "stream": "stdout",
       "text": [
        "\n"
       ]
      },
      {
       "output_type": "stream",
       "stream": "stdout",
       "text": [
        "-----------Processing page 42\n",
        "Uploaded to devname=Lawrenceville 2, channels=['CO_PPB', 'INT_T_DEGC', 'NO_PPB', 'NOY_PPB', 'NOYDIF_PPB', 'PM10B_UG_M3', 'PM25B_UG_M3', 'SO2_PPB'], starting 2014-11-26 00:00:00.  Upload took 0.1 seconds"
       ]
      },
      {
       "output_type": "stream",
       "stream": "stdout",
       "text": [
        "\n"
       ]
      },
      {
       "output_type": "stream",
       "stream": "stdout",
       "text": [
        "-----------Processing page 43\n",
        "Uploaded to devname=Lawrenceville 2, channels=['CO_PPB', 'INT_T_DEGC', 'NO_PPB', 'NOY_PPB', 'NOYDIF_PPB', 'PM10B_UG_M3', 'PM25B_UG_M3', 'SO2_PPB'], starting 2014-11-27 00:00:00.  Upload took 0.1 seconds"
       ]
      },
      {
       "output_type": "stream",
       "stream": "stdout",
       "text": [
        "\n"
       ]
      },
      {
       "output_type": "stream",
       "stream": "stdout",
       "text": [
        "-----------Processing page 44\n",
        "Uploaded to devname=Lawrenceville 2, channels=['CO_PPB', 'INT_T_DEGC', 'NO_PPB', 'NOY_PPB', 'NOYDIF_PPB', 'PM10B_UG_M3', 'PM25B_UG_M3', 'SO2_PPB'], starting 2014-11-28 00:00:00.  Upload took 0.1 seconds"
       ]
      },
      {
       "output_type": "stream",
       "stream": "stdout",
       "text": [
        "\n"
       ]
      },
      {
       "output_type": "stream",
       "stream": "stdout",
       "text": [
        "-----------Processing page 45\n",
        "Uploaded to devname=Lawrenceville 2, channels=['CO_PPB', 'INT_T_DEGC', 'NO_PPB', 'NOY_PPB', 'NOYDIF_PPB', 'PM10B_UG_M3', 'PM25B_UG_M3', 'SO2_PPB'], starting 2014-11-29 00:00:00.  Upload took 0.0 seconds"
       ]
      },
      {
       "output_type": "stream",
       "stream": "stdout",
       "text": [
        "\n"
       ]
      },
      {
       "output_type": "stream",
       "stream": "stdout",
       "text": [
        "-----------Processing page 46\n",
        "Uploaded to devname=Lawrenceville 2, channels=['CO_PPB', 'INT_T_DEGC', 'NO_PPB', 'NOY_PPB', 'NOYDIF_PPB', 'PM10B_UG_M3', 'PM25B_UG_M3', 'SO2_PPB'], starting 2014-11-30 00:00:00.  Upload took 0.0 seconds"
       ]
      },
      {
       "output_type": "stream",
       "stream": "stdout",
       "text": [
        "\n"
       ]
      },
      {
       "output_type": "stream",
       "stream": "stdout",
       "text": [
        "-----------Processing page 47\n",
        "Uploaded to devname=Lawrenceville 2, channels=['CO_PPB', 'INT_T_DEGC', 'NO_PPB', 'NOY_PPB', 'NOYDIF_PPB', 'PM10B_UG_M3', 'PM25B_UG_M3', 'SO2_PPB'], starting 2014-12-01 00:00:00.  Upload took 0.0 seconds"
       ]
      },
      {
       "output_type": "stream",
       "stream": "stdout",
       "text": [
        "\n"
       ]
      },
      {
       "output_type": "stream",
       "stream": "stdout",
       "text": [
        "-----------Processing page 48\n",
        "Uploaded to devname=Lawrenceville 2, channels=['CO_PPB', 'INT_T_DEGC', 'NO_PPB', 'NOY_PPB', 'NOYDIF_PPB', 'PM10B_UG_M3', 'PM25B_UG_M3', 'SO2_PPB'], starting 2014-12-02 00:00:00.  Upload took 0.0 seconds"
       ]
      },
      {
       "output_type": "stream",
       "stream": "stdout",
       "text": [
        "\n"
       ]
      },
      {
       "output_type": "stream",
       "stream": "stdout",
       "text": [
        "-----------Processing page 49\n",
        "Uploaded to devname=Liberty, channels=['H2S_PPM', 'INT_T_DEGC', 'OUT_T_DEGC', 'SIGTHETA_DEG', 'SO2_PPM', 'SONICWD_DEG', 'SONICWS_MPH'], starting 2014-11-26 00:00:00.  Upload took 0.0 seconds"
       ]
      },
      {
       "output_type": "stream",
       "stream": "stdout",
       "text": [
        "\n"
       ]
      },
      {
       "output_type": "stream",
       "stream": "stdout",
       "text": [
        "-----------Processing page 50\n",
        "Uploaded to devname=Liberty, channels=['H2S_PPM', 'INT_T_DEGC', 'OUT_T_DEGC', 'SIGTHETA_DEG', 'SO2_PPM', 'SONICWD_DEG', 'SONICWS_MPH'], starting 2014-11-27 00:00:00.  Upload took 0.0 seconds"
       ]
      },
      {
       "output_type": "stream",
       "stream": "stdout",
       "text": [
        "\n"
       ]
      },
      {
       "output_type": "stream",
       "stream": "stdout",
       "text": [
        "-----------Processing page 51\n",
        "Uploaded to devname=Liberty, channels=['H2S_PPM', 'INT_T_DEGC', 'OUT_T_DEGC', 'SIGTHETA_DEG', 'SO2_PPM', 'SONICWD_DEG', 'SONICWS_MPH'], starting 2014-11-28 00:00:00.  Upload took 0.0 seconds"
       ]
      },
      {
       "output_type": "stream",
       "stream": "stdout",
       "text": [
        "\n"
       ]
      },
      {
       "output_type": "stream",
       "stream": "stdout",
       "text": [
        "-----------Processing page 52\n",
        "Uploaded to devname=Liberty, channels=['H2S_PPM', 'INT_T_DEGC', 'OUT_T_DEGC', 'SIGTHETA_DEG', 'SO2_PPM', 'SONICWD_DEG', 'SONICWS_MPH'], starting 2014-11-29 00:00:00.  Upload took 0.0 seconds"
       ]
      },
      {
       "output_type": "stream",
       "stream": "stdout",
       "text": [
        "\n"
       ]
      },
      {
       "output_type": "stream",
       "stream": "stdout",
       "text": [
        "-----------Processing page 53\n",
        "Uploaded to devname=Liberty, channels=['H2S_PPM', 'INT_T_DEGC', 'OUT_T_DEGC', 'SIGTHETA_DEG', 'SO2_PPM', 'SONICWD_DEG', 'SONICWS_MPH'], starting 2014-11-30 00:00:00.  Upload took 0.0 seconds"
       ]
      },
      {
       "output_type": "stream",
       "stream": "stdout",
       "text": [
        "\n"
       ]
      },
      {
       "output_type": "stream",
       "stream": "stdout",
       "text": [
        "-----------Processing page 54\n",
        "Uploaded to devname=Liberty, channels=['H2S_PPM', 'INT_T_DEGC', 'OUT_T_DEGC', 'SIGTHETA_DEG', 'SO2_PPM', 'SONICWD_DEG', 'SONICWS_MPH'], starting 2014-12-01 00:00:00.  Upload took 0.0 seconds"
       ]
      },
      {
       "output_type": "stream",
       "stream": "stdout",
       "text": [
        "\n"
       ]
      },
      {
       "output_type": "stream",
       "stream": "stdout",
       "text": [
        "-----------Processing page 55\n",
        "Uploaded to devname=Liberty, channels=['H2S_PPM', 'INT_T_DEGC', 'OUT_T_DEGC', 'SIGTHETA_DEG', 'SO2_PPM', 'SONICWD_DEG', 'SONICWS_MPH'], starting 2014-12-02 00:00:00.  Upload took 0.0 seconds"
       ]
      },
      {
       "output_type": "stream",
       "stream": "stdout",
       "text": [
        "\n"
       ]
      },
      {
       "output_type": "stream",
       "stream": "stdout",
       "text": [
        "-----------Processing page 56\n",
        "Uploaded to devname=Liberty 2, channels=['PM10_UG_M3', 'PM10_FL_PERCENT', 'PM25_UG_M3', 'PM25_2__UG_M3', 'PM25_FL_PERCENT'], starting 2014-11-26 00:00:00.  Upload took 0.0 seconds"
       ]
      },
      {
       "output_type": "stream",
       "stream": "stdout",
       "text": [
        "\n"
       ]
      },
      {
       "output_type": "stream",
       "stream": "stdout",
       "text": [
        "-----------Processing page 57\n",
        "Uploaded to devname=Liberty 2, channels=['PM10_UG_M3', 'PM10_FL_PERCENT', 'PM25_UG_M3', 'PM25_2__UG_M3', 'PM25_FL_PERCENT'], starting 2014-11-27 00:00:00.  Upload took 0.0 seconds"
       ]
      },
      {
       "output_type": "stream",
       "stream": "stdout",
       "text": [
        "\n"
       ]
      },
      {
       "output_type": "stream",
       "stream": "stdout",
       "text": [
        "-----------Processing page 58\n",
        "Uploaded to devname=Liberty 2, channels=['PM10_UG_M3', 'PM10_FL_PERCENT', 'PM25_UG_M3', 'PM25_2__UG_M3', 'PM25_FL_PERCENT'], starting 2014-11-28 00:00:00.  Upload took 0.0 seconds"
       ]
      },
      {
       "output_type": "stream",
       "stream": "stdout",
       "text": [
        "\n"
       ]
      },
      {
       "output_type": "stream",
       "stream": "stdout",
       "text": [
        "-----------Processing page 59\n",
        "Uploaded to devname=Liberty 2, channels=['PM10_UG_M3', 'PM10_FL_PERCENT', 'PM25_UG_M3', 'PM25_2__UG_M3', 'PM25_FL_PERCENT'], starting 2014-11-29 00:00:00.  Upload took 0.0 seconds"
       ]
      },
      {
       "output_type": "stream",
       "stream": "stdout",
       "text": [
        "\n"
       ]
      },
      {
       "output_type": "stream",
       "stream": "stdout",
       "text": [
        "-----------Processing page 60\n",
        "Uploaded to devname=Liberty 2, channels=['PM10_UG_M3', 'PM10_FL_PERCENT', 'PM25_UG_M3', 'PM25_2__UG_M3', 'PM25_FL_PERCENT'], starting 2014-11-30 00:00:00.  Upload took 0.0 seconds"
       ]
      },
      {
       "output_type": "stream",
       "stream": "stdout",
       "text": [
        "\n"
       ]
      },
      {
       "output_type": "stream",
       "stream": "stdout",
       "text": [
        "-----------Processing page 61\n",
        "Uploaded to devname=Liberty 2, channels=['PM10_UG_M3', 'PM10_FL_PERCENT', 'PM25_UG_M3', 'PM25_2__UG_M3', 'PM25_FL_PERCENT'], starting 2014-12-01 00:00:00.  Upload took 0.0 seconds"
       ]
      },
      {
       "output_type": "stream",
       "stream": "stdout",
       "text": [
        "\n"
       ]
      },
      {
       "output_type": "stream",
       "stream": "stdout",
       "text": [
        "-----------Processing page 62\n",
        "Uploaded to devname=Liberty 2, channels=['PM10_UG_M3', 'PM10_FL_PERCENT', 'PM25_UG_M3', 'PM25_2__UG_M3', 'PM25_FL_PERCENT'], starting 2014-12-02 00:00:00.  Upload took 0.0 seconds"
       ]
      },
      {
       "output_type": "stream",
       "stream": "stdout",
       "text": [
        "\n"
       ]
      },
      {
       "output_type": "stream",
       "stream": "stdout",
       "text": [
        "-----------Processing page 63\n",
        "Uploaded to devname=Lincoln, channels=['PER_F_PERCENT', 'PER_F2_PERCENT', 'PM10_UG_M3', 'PM25_UG_M3'], starting 2014-11-26 00:00:00.  Upload took 0.0 seconds"
       ]
      },
      {
       "output_type": "stream",
       "stream": "stdout",
       "text": [
        "\n"
       ]
      },
      {
       "output_type": "stream",
       "stream": "stdout",
       "text": [
        "-----------Processing page 64\n",
        "Uploaded to devname=Lincoln, channels=['PER_F_PERCENT', 'PER_F2_PERCENT', 'PM10_UG_M3', 'PM25_UG_M3'], starting 2014-11-27 00:00:00.  Upload took 0.0 seconds"
       ]
      },
      {
       "output_type": "stream",
       "stream": "stdout",
       "text": [
        "\n"
       ]
      },
      {
       "output_type": "stream",
       "stream": "stdout",
       "text": [
        "-----------Processing page 65\n",
        "Uploaded to devname=Lincoln, channels=['PER_F_PERCENT', 'PER_F2_PERCENT', 'PM10_UG_M3', 'PM25_UG_M3'], starting 2014-11-28 00:00:00.  Upload took 0.0 seconds"
       ]
      },
      {
       "output_type": "stream",
       "stream": "stdout",
       "text": [
        "\n"
       ]
      },
      {
       "output_type": "stream",
       "stream": "stdout",
       "text": [
        "-----------Processing page 66\n",
        "Uploaded to devname=Lincoln, channels=['PER_F_PERCENT', 'PER_F2_PERCENT', 'PM10_UG_M3', 'PM25_UG_M3'], starting 2014-11-29 00:00:00.  Upload took 0.0 seconds"
       ]
      },
      {
       "output_type": "stream",
       "stream": "stdout",
       "text": [
        "\n"
       ]
      },
      {
       "output_type": "stream",
       "stream": "stdout",
       "text": [
        "-----------Processing page 67\n",
        "Uploaded to devname=Lincoln, channels=['PER_F_PERCENT', 'PER_F2_PERCENT', 'PM10_UG_M3', 'PM25_UG_M3'], starting 2014-11-30 00:00:00.  Upload took 0.0 seconds"
       ]
      },
      {
       "output_type": "stream",
       "stream": "stdout",
       "text": [
        "\n"
       ]
      },
      {
       "output_type": "stream",
       "stream": "stdout",
       "text": [
        "-----------Processing page 68\n",
        "Uploaded to devname=Lincoln, channels=['PER_F_PERCENT', 'PER_F2_PERCENT', 'PM10_UG_M3', 'PM25_UG_M3'], starting 2014-12-01 00:00:00.  Upload took 0.0 seconds"
       ]
      },
      {
       "output_type": "stream",
       "stream": "stdout",
       "text": [
        "\n"
       ]
      },
      {
       "output_type": "stream",
       "stream": "stdout",
       "text": [
        "-----------Processing page 69\n",
        "Uploaded to devname=Lincoln, channels=['PER_F_PERCENT', 'PER_F2_PERCENT', 'PM10_UG_M3', 'PM25_UG_M3'], starting 2014-12-02 00:00:00.  Upload took 0.1 seconds"
       ]
      },
      {
       "output_type": "stream",
       "stream": "stdout",
       "text": [
        "\n"
       ]
      },
      {
       "output_type": "stream",
       "stream": "stdout",
       "text": [
        "-----------Processing page 70\n",
        "Uploaded to devname=Monroeville, channels=['BP_MM_HG', 'INT_T_DEGC', 'OUT_T_DEGC', 'PM10B_UG_M3'], starting 2014-11-26 00:00:00.  Upload took 0.1 seconds"
       ]
      },
      {
       "output_type": "stream",
       "stream": "stdout",
       "text": [
        "\n"
       ]
      },
      {
       "output_type": "stream",
       "stream": "stdout",
       "text": [
        "-----------Processing page 71\n",
        "Uploaded to devname=Monroeville, channels=['BP_MM_HG', 'INT_T_DEGC', 'OUT_T_DEGC', 'PM10B_UG_M3'], starting 2014-11-27 00:00:00.  Upload took 0.0 seconds"
       ]
      },
      {
       "output_type": "stream",
       "stream": "stdout",
       "text": [
        "\n"
       ]
      },
      {
       "output_type": "stream",
       "stream": "stdout",
       "text": [
        "-----------Processing page 72\n",
        "Uploaded to devname=Monroeville, channels=['BP_MM_HG', 'INT_T_DEGC', 'OUT_T_DEGC', 'PM10B_UG_M3'], starting 2014-11-28 00:00:00.  Upload took 0.0 seconds"
       ]
      },
      {
       "output_type": "stream",
       "stream": "stdout",
       "text": [
        "\n"
       ]
      },
      {
       "output_type": "stream",
       "stream": "stdout",
       "text": [
        "-----------Processing page 73\n",
        "Uploaded to devname=Monroeville, channels=['BP_MM_HG', 'INT_T_DEGC', 'OUT_T_DEGC', 'PM10B_UG_M3'], starting 2014-11-29 00:00:00.  Upload took 0.0 seconds"
       ]
      },
      {
       "output_type": "stream",
       "stream": "stdout",
       "text": [
        "\n"
       ]
      },
      {
       "output_type": "stream",
       "stream": "stdout",
       "text": [
        "-----------Processing page 74\n",
        "Uploaded to devname=Monroeville, channels=['BP_MM_HG', 'INT_T_DEGC', 'OUT_T_DEGC', 'PM10B_UG_M3'], starting 2014-11-30 00:00:00.  Upload took 0.0 seconds"
       ]
      },
      {
       "output_type": "stream",
       "stream": "stdout",
       "text": [
        "\n"
       ]
      },
      {
       "output_type": "stream",
       "stream": "stdout",
       "text": [
        "-----------Processing page 75\n",
        "Uploaded to devname=Monroeville, channels=['BP_MM_HG', 'INT_T_DEGC', 'OUT_T_DEGC', 'PM10B_UG_M3'], starting 2014-12-01 00:00:00.  Upload took 0.0 seconds"
       ]
      },
      {
       "output_type": "stream",
       "stream": "stdout",
       "text": [
        "\n"
       ]
      },
      {
       "output_type": "stream",
       "stream": "stdout",
       "text": [
        "-----------Processing page 76\n",
        "Uploaded to devname=Monroeville, channels=['BP_MM_HG', 'INT_T_DEGC', 'OUT_T_DEGC', 'PM10B_UG_M3'], starting 2014-12-02 00:00:00.  Upload took 0.0 seconds"
       ]
      },
      {
       "output_type": "stream",
       "stream": "stdout",
       "text": [
        "\n"
       ]
      },
      {
       "output_type": "stream",
       "stream": "stdout",
       "text": [
        "-----------Processing page 77\n",
        "Uploaded to devname=North Braddock, channels=['BP_MM_HG', 'INT_T_DEGC', 'OUT_T_DEGC', 'PM10B_UG_M3', 'SIGTHETA_DEG', 'SO2_PPM', 'SONICWD_DEG', 'SONICWS_MPH'], starting 2014-11-26 00:00:00.  Upload took 0.0 seconds"
       ]
      },
      {
       "output_type": "stream",
       "stream": "stdout",
       "text": [
        "\n"
       ]
      },
      {
       "output_type": "stream",
       "stream": "stdout",
       "text": [
        "-----------Processing page 78\n",
        "Uploaded to devname=North Braddock, channels=['BP_MM_HG', 'INT_T_DEGC', 'OUT_T_DEGC', 'PM10B_UG_M3', 'SIGTHETA_DEG', 'SO2_PPM', 'SONICWD_DEG', 'SONICWS_MPH'], starting 2014-11-27 00:00:00.  Upload took 0.0 seconds"
       ]
      },
      {
       "output_type": "stream",
       "stream": "stdout",
       "text": [
        "\n"
       ]
      },
      {
       "output_type": "stream",
       "stream": "stdout",
       "text": [
        "-----------Processing page 79\n",
        "Uploaded to devname=North Braddock, channels=['BP_MM_HG', 'INT_T_DEGC', 'OUT_T_DEGC', 'PM10B_UG_M3', 'SIGTHETA_DEG', 'SO2_PPM', 'SONICWD_DEG', 'SONICWS_MPH'], starting 2014-11-28 00:00:00.  Upload took 0.0 seconds"
       ]
      },
      {
       "output_type": "stream",
       "stream": "stdout",
       "text": [
        "\n"
       ]
      },
      {
       "output_type": "stream",
       "stream": "stdout",
       "text": [
        "-----------Processing page 80\n",
        "Uploaded to devname=North Braddock, channels=['BP_MM_HG', 'INT_T_DEGC', 'OUT_T_DEGC', 'PM10B_UG_M3', 'SIGTHETA_DEG', 'SO2_PPM', 'SONICWD_DEG', 'SONICWS_MPH'], starting 2014-11-29 00:00:00.  Upload took 0.0 seconds"
       ]
      },
      {
       "output_type": "stream",
       "stream": "stdout",
       "text": [
        "\n"
       ]
      },
      {
       "output_type": "stream",
       "stream": "stdout",
       "text": [
        "-----------Processing page 81\n",
        "Uploaded to devname=North Braddock, channels=['BP_MM_HG', 'INT_T_DEGC', 'OUT_T_DEGC', 'PM10B_UG_M3', 'SIGTHETA_DEG', 'SO2_PPM', 'SONICWD_DEG', 'SONICWS_MPH'], starting 2014-11-30 00:00:00.  Upload took 0.0 seconds"
       ]
      },
      {
       "output_type": "stream",
       "stream": "stdout",
       "text": [
        "\n"
       ]
      },
      {
       "output_type": "stream",
       "stream": "stdout",
       "text": [
        "-----------Processing page 82\n",
        "Uploaded to devname=North Braddock, channels=['BP_MM_HG', 'INT_T_DEGC', 'OUT_T_DEGC', 'PM10B_UG_M3', 'SIGTHETA_DEG', 'SO2_PPM', 'SONICWD_DEG', 'SONICWS_MPH'], starting 2014-12-01 00:00:00.  Upload took 0.0 seconds"
       ]
      },
      {
       "output_type": "stream",
       "stream": "stdout",
       "text": [
        "\n"
       ]
      },
      {
       "output_type": "stream",
       "stream": "stdout",
       "text": [
        "-----------Processing page 83\n",
        "Uploaded to devname=North Braddock, channels=['BP_MM_HG', 'INT_T_DEGC', 'OUT_T_DEGC', 'PM10B_UG_M3', 'SIGTHETA_DEG', 'SO2_PPM', 'SONICWD_DEG', 'SONICWS_MPH'], starting 2014-12-02 00:00:00.  Upload took 0.0 seconds"
       ]
      },
      {
       "output_type": "stream",
       "stream": "stdout",
       "text": [
        "\n"
       ]
      },
      {
       "output_type": "stream",
       "stream": "stdout",
       "text": [
        "-----------Processing page 84\n",
        "Uploaded to devname=Parkway East Near Road , channels=['BLACK_CARBON_NG_M3', 'CO_PPB', 'INT_T_DEGC', 'NO_PPB', 'NO2_PPB', 'NOX_PPB', 'OUT_RH_PERCENT', 'OUT_T_DEGC', 'SIGTHETA_DEG'], starting 2014-11-26 00:00:00.  Upload took 0.0 seconds"
       ]
      },
      {
       "output_type": "stream",
       "stream": "stdout",
       "text": [
        "\n"
       ]
      },
      {
       "output_type": "stream",
       "stream": "stdout",
       "text": [
        "-----------Processing page 85\n",
        "Uploaded to devname=Parkway East Near Road , channels=['SONICWD_DEG', 'SONICWS_MPH', 'UVPM_NG_M3'], starting 2014-11-26 00:00:00.  Upload took 0.0 seconds"
       ]
      },
      {
       "output_type": "stream",
       "stream": "stdout",
       "text": [
        "\n"
       ]
      },
      {
       "output_type": "stream",
       "stream": "stdout",
       "text": [
        "-----------Processing page 86\n",
        "Uploaded to devname=Parkway East Near Road , channels=['BLACK_CARBON_NG_M3', 'CO_PPB', 'INT_T_DEGC', 'NO_PPB', 'NO2_PPB', 'NOX_PPB', 'OUT_RH_PERCENT', 'OUT_T_DEGC', 'SIGTHETA_DEG'], starting 2014-11-27 00:00:00.  Upload took 0.0 seconds"
       ]
      },
      {
       "output_type": "stream",
       "stream": "stdout",
       "text": [
        "\n"
       ]
      },
      {
       "output_type": "stream",
       "stream": "stdout",
       "text": [
        "-----------Processing page 87\n",
        "Uploaded to devname=Parkway East Near Road , channels=['SONICWD_DEG', 'SONICWS_MPH', 'UVPM_NG_M3'], starting 2014-11-27 00:00:00.  Upload took 0.0 seconds"
       ]
      },
      {
       "output_type": "stream",
       "stream": "stdout",
       "text": [
        "\n"
       ]
      },
      {
       "output_type": "stream",
       "stream": "stdout",
       "text": [
        "-----------Processing page 88\n",
        "Uploaded to devname=Parkway East Near Road , channels=['BLACK_CARBON_NG_M3', 'CO_PPB', 'INT_T_DEGC', 'NO_PPB', 'NO2_PPB', 'NOX_PPB', 'OUT_RH_PERCENT', 'OUT_T_DEGC', 'SIGTHETA_DEG'], starting 2014-11-28 00:00:00.  Upload took 0.0 seconds"
       ]
      },
      {
       "output_type": "stream",
       "stream": "stdout",
       "text": [
        "\n"
       ]
      },
      {
       "output_type": "stream",
       "stream": "stdout",
       "text": [
        "-----------Processing page 89\n",
        "Uploaded to devname=Parkway East Near Road , channels=['SONICWD_DEG', 'SONICWS_MPH', 'UVPM_NG_M3'], starting 2014-11-28 00:00:00.  Upload took 0.0 seconds"
       ]
      },
      {
       "output_type": "stream",
       "stream": "stdout",
       "text": [
        "\n"
       ]
      },
      {
       "output_type": "stream",
       "stream": "stdout",
       "text": [
        "-----------Processing page 90\n",
        "Uploaded to devname=Parkway East Near Road , channels=['BLACK_CARBON_NG_M3', 'CO_PPB', 'INT_T_DEGC', 'NO_PPB', 'NO2_PPB', 'NOX_PPB', 'OUT_RH_PERCENT', 'OUT_T_DEGC', 'SIGTHETA_DEG'], starting 2014-11-29 00:00:00.  Upload took 0.0 seconds"
       ]
      },
      {
       "output_type": "stream",
       "stream": "stdout",
       "text": [
        "\n"
       ]
      },
      {
       "output_type": "stream",
       "stream": "stdout",
       "text": [
        "-----------Processing page 91\n",
        "Uploaded to devname=Parkway East Near Road , channels=['SONICWD_DEG', 'SONICWS_MPH', 'UVPM_NG_M3'], starting 2014-11-29 00:00:00.  Upload took 0.0 seconds"
       ]
      },
      {
       "output_type": "stream",
       "stream": "stdout",
       "text": [
        "\n"
       ]
      },
      {
       "output_type": "stream",
       "stream": "stdout",
       "text": [
        "-----------Processing page 92\n",
        "Uploaded to devname=Parkway East Near Road , channels=['BLACK_CARBON_NG_M3', 'CO_PPB', 'INT_T_DEGC', 'NO_PPB', 'NO2_PPB', 'NOX_PPB', 'OUT_RH_PERCENT', 'OUT_T_DEGC', 'SIGTHETA_DEG'], starting 2014-11-30 00:00:00.  Upload took 0.0 seconds"
       ]
      },
      {
       "output_type": "stream",
       "stream": "stdout",
       "text": [
        "\n"
       ]
      },
      {
       "output_type": "stream",
       "stream": "stdout",
       "text": [
        "-----------Processing page 93\n",
        "Uploaded to devname=Parkway East Near Road , channels=['SONICWD_DEG', 'SONICWS_MPH', 'UVPM_NG_M3'], starting 2014-11-30 00:00:00.  Upload took 0.0 seconds"
       ]
      },
      {
       "output_type": "stream",
       "stream": "stdout",
       "text": [
        "\n"
       ]
      },
      {
       "output_type": "stream",
       "stream": "stdout",
       "text": [
        "-----------Processing page 94\n",
        "Uploaded to devname=Parkway East Near Road , channels=['BLACK_CARBON_NG_M3', 'CO_PPB', 'INT_T_DEGC', 'NO_PPB', 'NO2_PPB', 'NOX_PPB', 'OUT_RH_PERCENT', 'OUT_T_DEGC', 'SIGTHETA_DEG'], starting 2014-12-01 00:00:00.  Upload took 0.0 seconds"
       ]
      },
      {
       "output_type": "stream",
       "stream": "stdout",
       "text": [
        "\n"
       ]
      },
      {
       "output_type": "stream",
       "stream": "stdout",
       "text": [
        "-----------Processing page 95\n",
        "Uploaded to devname=Parkway East Near Road , channels=['SONICWD_DEG', 'SONICWS_MPH', 'UVPM_NG_M3'], starting 2014-12-01 00:00:00.  Upload took 0.0 seconds"
       ]
      },
      {
       "output_type": "stream",
       "stream": "stdout",
       "text": [
        "\n"
       ]
      },
      {
       "output_type": "stream",
       "stream": "stdout",
       "text": [
        "-----------Processing page 96\n",
        "Uploaded to devname=Parkway East Near Road , channels=['BLACK_CARBON_NG_M3', 'CO_PPB', 'INT_T_DEGC', 'NO_PPB', 'NO2_PPB', 'NOX_PPB', 'OUT_RH_PERCENT', 'OUT_T_DEGC', 'SIGTHETA_DEG'], starting 2014-12-02 00:00:00.  Upload took 0.0 seconds"
       ]
      },
      {
       "output_type": "stream",
       "stream": "stdout",
       "text": [
        "\n"
       ]
      },
      {
       "output_type": "stream",
       "stream": "stdout",
       "text": [
        "-----------Processing page 97\n",
        "Uploaded to devname=Parkway East Near Road , channels=['SONICWD_DEG', 'SONICWS_MPH', 'UVPM_NG_M3'], starting 2014-12-02 00:00:00.  Upload took 0.0 seconds"
       ]
      },
      {
       "output_type": "stream",
       "stream": "stdout",
       "text": [
        "\n"
       ]
      },
      {
       "output_type": "stream",
       "stream": "stdout",
       "text": [
        "-----------Processing page 98\n",
        "Uploaded to devname=South Fayette, channels=['INT_T_DEGC', 'OUT_T_DEGC', 'SIGTHETA_DEG', 'SO2_PPM', 'SONICWD_DEG', 'SONICWS_MPH'], starting 2014-11-26 00:00:00.  Upload took 0.0 seconds"
       ]
      },
      {
       "output_type": "stream",
       "stream": "stdout",
       "text": [
        "\n"
       ]
      },
      {
       "output_type": "stream",
       "stream": "stdout",
       "text": [
        "-----------Processing page 99\n",
        "Uploaded to devname=South Fayette, channels=['INT_T_DEGC', 'OUT_T_DEGC', 'SIGTHETA_DEG', 'SO2_PPM', 'SONICWD_DEG', 'SONICWS_MPH'], starting 2014-11-27 00:00:00.  Upload took 0.0 seconds"
       ]
      },
      {
       "output_type": "stream",
       "stream": "stdout",
       "text": [
        "\n"
       ]
      },
      {
       "output_type": "stream",
       "stream": "stdout",
       "text": [
        "-----------Processing page 100\n",
        "Uploaded to devname=South Fayette, channels=['INT_T_DEGC', 'OUT_T_DEGC', 'SIGTHETA_DEG', 'SO2_PPM', 'SONICWD_DEG', 'SONICWS_MPH'], starting 2014-11-28 00:00:00.  Upload took 0.0 seconds"
       ]
      },
      {
       "output_type": "stream",
       "stream": "stdout",
       "text": [
        "\n"
       ]
      },
      {
       "output_type": "stream",
       "stream": "stdout",
       "text": [
        "-----------Processing page 101\n",
        "Uploaded to devname=South Fayette, channels=['INT_T_DEGC', 'OUT_T_DEGC', 'SIGTHETA_DEG', 'SO2_PPM', 'SONICWD_DEG', 'SONICWS_MPH'], starting 2014-11-29 00:00:00.  Upload took 0.0 seconds"
       ]
      },
      {
       "output_type": "stream",
       "stream": "stdout",
       "text": [
        "\n"
       ]
      },
      {
       "output_type": "stream",
       "stream": "stdout",
       "text": [
        "-----------Processing page 102\n",
        "Uploaded to devname=South Fayette, channels=['INT_T_DEGC', 'OUT_T_DEGC', 'SIGTHETA_DEG', 'SO2_PPM', 'SONICWD_DEG', 'SONICWS_MPH'], starting 2014-11-30 00:00:00.  Upload took 0.0 seconds"
       ]
      },
      {
       "output_type": "stream",
       "stream": "stdout",
       "text": [
        "\n"
       ]
      },
      {
       "output_type": "stream",
       "stream": "stdout",
       "text": [
        "-----------Processing page 103\n",
        "Uploaded to devname=South Fayette, channels=['INT_T_DEGC', 'OUT_T_DEGC', 'SIGTHETA_DEG', 'SO2_PPM', 'SONICWD_DEG', 'SONICWS_MPH'], starting 2014-12-01 00:00:00.  Upload took 0.0 seconds"
       ]
      },
      {
       "output_type": "stream",
       "stream": "stdout",
       "text": [
        "\n"
       ]
      },
      {
       "output_type": "stream",
       "stream": "stdout",
       "text": [
        "-----------Processing page 104\n",
        "Uploaded to devname=South Fayette, channels=['INT_T_DEGC', 'OUT_T_DEGC', 'SIGTHETA_DEG', 'SO2_PPM', 'SONICWD_DEG', 'SONICWS_MPH'], starting 2014-12-02 00:00:00.  Upload took 0.1 seconds"
       ]
      },
      {
       "output_type": "stream",
       "stream": "stdout",
       "text": [
        "\n"
       ]
      },
      {
       "output_type": "stream",
       "stream": "stdout",
       "text": [
        "XML parsed and uploaded in 32.2 seconds\n",
        "I would like to process mirror/DailySummary-2014-12-02-11:35:03-0500.PDF\n",
        "Converting mirror/DailySummary-2014-12-02-11:35:03-0500.PDF to xml\n"
       ]
      },
      {
       "ename": "KeyboardInterrupt",
       "evalue": "",
       "output_type": "pyerr",
       "traceback": [
        "\u001b[1;31m---------------------------------------------------------------------------\u001b[0m\n\u001b[1;31mKeyboardInterrupt\u001b[0m                         Traceback (most recent call last)",
        "\u001b[1;32m<ipython-input-11-5e6e27cbdaa2>\u001b[0m in \u001b[0;36m<module>\u001b[1;34m()\u001b[0m\n\u001b[0;32m     14\u001b[0m         \u001b[0mfcntl\u001b[0m\u001b[1;33m.\u001b[0m\u001b[0mflock\u001b[0m\u001b[1;33m(\u001b[0m\u001b[0mlockfile\u001b[0m\u001b[1;33m,\u001b[0m \u001b[0mfcntl\u001b[0m\u001b[1;33m.\u001b[0m\u001b[0mLOCK_UN\u001b[0m\u001b[1;33m)\u001b[0m\u001b[1;33m\u001b[0m\u001b[0m\n\u001b[0;32m     15\u001b[0m \u001b[1;33m\u001b[0m\u001b[0m\n\u001b[1;32m---> 16\u001b[1;33m \u001b[0mprocess_all\u001b[0m\u001b[1;33m(\u001b[0m\u001b[1;33m)\u001b[0m\u001b[1;33m\u001b[0m\u001b[0m\n\u001b[0m",
        "\u001b[1;32m<ipython-input-11-5e6e27cbdaa2>\u001b[0m in \u001b[0;36mprocess_all\u001b[1;34m()\u001b[0m\n\u001b[0;32m     10\u001b[0m         \u001b[1;32mfor\u001b[0m \u001b[0mpdf\u001b[0m \u001b[1;32min\u001b[0m \u001b[0msorted\u001b[0m\u001b[1;33m(\u001b[0m\u001b[0mglob\u001b[0m\u001b[1;33m.\u001b[0m\u001b[0mglob\u001b[0m\u001b[1;33m(\u001b[0m\u001b[1;34m'mirror/*.PDF'\u001b[0m\u001b[1;33m)\u001b[0m\u001b[1;33m)\u001b[0m\u001b[1;33m:\u001b[0m\u001b[1;33m\u001b[0m\u001b[0m\n\u001b[0;32m     11\u001b[0m             \u001b[1;32mif\u001b[0m \u001b[0mforce_reprocess\u001b[0m \u001b[1;32mor\u001b[0m \u001b[1;32mnot\u001b[0m \u001b[0mlast_uploaded_pdf\u001b[0m \u001b[1;32mor\u001b[0m \u001b[0mpdf\u001b[0m \u001b[1;33m>\u001b[0m \u001b[0mlast_uploaded_pdf\u001b[0m\u001b[1;33m:\u001b[0m\u001b[1;33m\u001b[0m\u001b[0m\n\u001b[1;32m---> 12\u001b[1;33m                 \u001b[0mprocess_pdf\u001b[0m\u001b[1;33m(\u001b[0m\u001b[0mpdf\u001b[0m\u001b[1;33m)\u001b[0m\u001b[1;33m\u001b[0m\u001b[0m\n\u001b[0m\u001b[0;32m     13\u001b[0m     \u001b[1;32mfinally\u001b[0m\u001b[1;33m:\u001b[0m\u001b[1;33m\u001b[0m\u001b[0m\n\u001b[0;32m     14\u001b[0m         \u001b[0mfcntl\u001b[0m\u001b[1;33m.\u001b[0m\u001b[0mflock\u001b[0m\u001b[1;33m(\u001b[0m\u001b[0mlockfile\u001b[0m\u001b[1;33m,\u001b[0m \u001b[0mfcntl\u001b[0m\u001b[1;33m.\u001b[0m\u001b[0mLOCK_UN\u001b[0m\u001b[1;33m)\u001b[0m\u001b[1;33m\u001b[0m\u001b[0m\n",
        "\u001b[1;32m<ipython-input-10-d20f822578c2>\u001b[0m in \u001b[0;36mprocess_pdf\u001b[1;34m(pdf_path, pages)\u001b[0m\n\u001b[0;32m     20\u001b[0m     \u001b[1;32mprint\u001b[0m \u001b[1;34m'I would like to process %s'\u001b[0m \u001b[1;33m%\u001b[0m \u001b[0mpdf_path\u001b[0m\u001b[1;33m\u001b[0m\u001b[0m\n\u001b[0;32m     21\u001b[0m     \u001b[0mreset_log\u001b[0m\u001b[1;33m(\u001b[0m\u001b[1;33m)\u001b[0m\u001b[1;33m\u001b[0m\u001b[0m\n\u001b[1;32m---> 22\u001b[1;33m     \u001b[0mxml_content\u001b[0m \u001b[1;33m=\u001b[0m \u001b[0mpdf_to_xml\u001b[0m\u001b[1;33m(\u001b[0m\u001b[0mpdf_path\u001b[0m\u001b[1;33m)\u001b[0m\u001b[1;33m\u001b[0m\u001b[0m\n\u001b[0m\u001b[0;32m     23\u001b[0m     \u001b[1;32mif\u001b[0m \u001b[1;32mnot\u001b[0m \u001b[0menable_parse\u001b[0m\u001b[1;33m:\u001b[0m\u001b[1;33m\u001b[0m\u001b[0m\n\u001b[0;32m     24\u001b[0m         \u001b[1;32mprint\u001b[0m \u001b[1;34m'Parse disabled'\u001b[0m\u001b[1;33m\u001b[0m\u001b[0m\n",
        "\u001b[1;32m<ipython-input-9-865cbef1cecf>\u001b[0m in \u001b[0;36mpdf_to_xml\u001b[1;34m(pdf_path)\u001b[0m\n\u001b[0;32m    111\u001b[0m         \u001b[0mlog\u001b[0m\u001b[1;33m(\u001b[0m\u001b[1;34m'Converting %s to xml'\u001b[0m \u001b[1;33m%\u001b[0m \u001b[0mpdf_path\u001b[0m\u001b[1;33m)\u001b[0m\u001b[1;33m\u001b[0m\u001b[0m\n\u001b[0;32m    112\u001b[0m         \u001b[0mstart_time\u001b[0m \u001b[1;33m=\u001b[0m \u001b[0mtime\u001b[0m\u001b[1;33m.\u001b[0m\u001b[0mtime\u001b[0m\u001b[1;33m(\u001b[0m\u001b[1;33m)\u001b[0m\u001b[1;33m\u001b[0m\u001b[0m\n\u001b[1;32m--> 113\u001b[1;33m         \u001b[0mxml_content\u001b[0m \u001b[1;33m=\u001b[0m \u001b[0msubprocess\u001b[0m\u001b[1;33m.\u001b[0m\u001b[0mcheck_output\u001b[0m\u001b[1;33m(\u001b[0m\u001b[1;33m[\u001b[0m\u001b[0mpdf2txt_path\u001b[0m\u001b[1;33m,\u001b[0m \u001b[1;34m'-t'\u001b[0m\u001b[1;33m,\u001b[0m \u001b[1;34m'xml'\u001b[0m\u001b[1;33m,\u001b[0m \u001b[0mpdf_path\u001b[0m\u001b[1;33m]\u001b[0m\u001b[1;33m)\u001b[0m\u001b[1;33m\u001b[0m\u001b[0m\n\u001b[0m\u001b[0;32m    114\u001b[0m         \u001b[1;32mprint\u001b[0m \u001b[1;34m'pdf %s length %d converted to xml length %d in %.1f seconds'\u001b[0m \u001b[1;33m%\u001b[0m \u001b[1;33m(\u001b[0m\u001b[0mpdf_path\u001b[0m\u001b[1;33m,\u001b[0m \u001b[0mos\u001b[0m\u001b[1;33m.\u001b[0m\u001b[0mstat\u001b[0m\u001b[1;33m(\u001b[0m\u001b[0mpdf_path\u001b[0m\u001b[1;33m)\u001b[0m\u001b[1;33m.\u001b[0m\u001b[0mst_size\u001b[0m\u001b[1;33m,\u001b[0m \u001b[0mlen\u001b[0m\u001b[1;33m(\u001b[0m\u001b[0mxml_content\u001b[0m\u001b[1;33m)\u001b[0m\u001b[1;33m,\u001b[0m \u001b[0mtime\u001b[0m\u001b[1;33m.\u001b[0m\u001b[0mtime\u001b[0m\u001b[1;33m(\u001b[0m\u001b[1;33m)\u001b[0m \u001b[1;33m-\u001b[0m \u001b[0mstart_time\u001b[0m\u001b[1;33m)\u001b[0m\u001b[1;33m\u001b[0m\u001b[0m\n\u001b[0;32m    115\u001b[0m         \u001b[1;32mif\u001b[0m \u001b[0menable_pdf_to_xml_cache\u001b[0m\u001b[1;33m:\u001b[0m\u001b[1;33m\u001b[0m\u001b[0m\n",
        "\u001b[1;32m/home/rsargent/anaconda/lib/python2.7/subprocess.pyc\u001b[0m in \u001b[0;36mcheck_output\u001b[1;34m(*popenargs, **kwargs)\u001b[0m\n\u001b[0;32m    565\u001b[0m         \u001b[1;32mraise\u001b[0m \u001b[0mValueError\u001b[0m\u001b[1;33m(\u001b[0m\u001b[1;34m'stdout argument not allowed, it will be overridden.'\u001b[0m\u001b[1;33m)\u001b[0m\u001b[1;33m\u001b[0m\u001b[0m\n\u001b[0;32m    566\u001b[0m     \u001b[0mprocess\u001b[0m \u001b[1;33m=\u001b[0m \u001b[0mPopen\u001b[0m\u001b[1;33m(\u001b[0m\u001b[0mstdout\u001b[0m\u001b[1;33m=\u001b[0m\u001b[0mPIPE\u001b[0m\u001b[1;33m,\u001b[0m \u001b[1;33m*\u001b[0m\u001b[0mpopenargs\u001b[0m\u001b[1;33m,\u001b[0m \u001b[1;33m**\u001b[0m\u001b[0mkwargs\u001b[0m\u001b[1;33m)\u001b[0m\u001b[1;33m\u001b[0m\u001b[0m\n\u001b[1;32m--> 567\u001b[1;33m     \u001b[0moutput\u001b[0m\u001b[1;33m,\u001b[0m \u001b[0munused_err\u001b[0m \u001b[1;33m=\u001b[0m \u001b[0mprocess\u001b[0m\u001b[1;33m.\u001b[0m\u001b[0mcommunicate\u001b[0m\u001b[1;33m(\u001b[0m\u001b[1;33m)\u001b[0m\u001b[1;33m\u001b[0m\u001b[0m\n\u001b[0m\u001b[0;32m    568\u001b[0m     \u001b[0mretcode\u001b[0m \u001b[1;33m=\u001b[0m \u001b[0mprocess\u001b[0m\u001b[1;33m.\u001b[0m\u001b[0mpoll\u001b[0m\u001b[1;33m(\u001b[0m\u001b[1;33m)\u001b[0m\u001b[1;33m\u001b[0m\u001b[0m\n\u001b[0;32m    569\u001b[0m     \u001b[1;32mif\u001b[0m \u001b[0mretcode\u001b[0m\u001b[1;33m:\u001b[0m\u001b[1;33m\u001b[0m\u001b[0m\n",
        "\u001b[1;32m/home/rsargent/anaconda/lib/python2.7/subprocess.pyc\u001b[0m in \u001b[0;36mcommunicate\u001b[1;34m(self, input)\u001b[0m\n\u001b[0;32m    789\u001b[0m                 \u001b[0mself\u001b[0m\u001b[1;33m.\u001b[0m\u001b[0mstdin\u001b[0m\u001b[1;33m.\u001b[0m\u001b[0mclose\u001b[0m\u001b[1;33m(\u001b[0m\u001b[1;33m)\u001b[0m\u001b[1;33m\u001b[0m\u001b[0m\n\u001b[0;32m    790\u001b[0m             \u001b[1;32melif\u001b[0m \u001b[0mself\u001b[0m\u001b[1;33m.\u001b[0m\u001b[0mstdout\u001b[0m\u001b[1;33m:\u001b[0m\u001b[1;33m\u001b[0m\u001b[0m\n\u001b[1;32m--> 791\u001b[1;33m                 \u001b[0mstdout\u001b[0m \u001b[1;33m=\u001b[0m \u001b[0m_eintr_retry_call\u001b[0m\u001b[1;33m(\u001b[0m\u001b[0mself\u001b[0m\u001b[1;33m.\u001b[0m\u001b[0mstdout\u001b[0m\u001b[1;33m.\u001b[0m\u001b[0mread\u001b[0m\u001b[1;33m)\u001b[0m\u001b[1;33m\u001b[0m\u001b[0m\n\u001b[0m\u001b[0;32m    792\u001b[0m                 \u001b[0mself\u001b[0m\u001b[1;33m.\u001b[0m\u001b[0mstdout\u001b[0m\u001b[1;33m.\u001b[0m\u001b[0mclose\u001b[0m\u001b[1;33m(\u001b[0m\u001b[1;33m)\u001b[0m\u001b[1;33m\u001b[0m\u001b[0m\n\u001b[0;32m    793\u001b[0m             \u001b[1;32melif\u001b[0m \u001b[0mself\u001b[0m\u001b[1;33m.\u001b[0m\u001b[0mstderr\u001b[0m\u001b[1;33m:\u001b[0m\u001b[1;33m\u001b[0m\u001b[0m\n",
        "\u001b[1;32m/home/rsargent/anaconda/lib/python2.7/subprocess.pyc\u001b[0m in \u001b[0;36m_eintr_retry_call\u001b[1;34m(func, *args)\u001b[0m\n\u001b[0;32m    474\u001b[0m     \u001b[1;32mwhile\u001b[0m \u001b[0mTrue\u001b[0m\u001b[1;33m:\u001b[0m\u001b[1;33m\u001b[0m\u001b[0m\n\u001b[0;32m    475\u001b[0m         \u001b[1;32mtry\u001b[0m\u001b[1;33m:\u001b[0m\u001b[1;33m\u001b[0m\u001b[0m\n\u001b[1;32m--> 476\u001b[1;33m             \u001b[1;32mreturn\u001b[0m \u001b[0mfunc\u001b[0m\u001b[1;33m(\u001b[0m\u001b[1;33m*\u001b[0m\u001b[0margs\u001b[0m\u001b[1;33m)\u001b[0m\u001b[1;33m\u001b[0m\u001b[0m\n\u001b[0m\u001b[0;32m    477\u001b[0m         \u001b[1;32mexcept\u001b[0m \u001b[1;33m(\u001b[0m\u001b[0mOSError\u001b[0m\u001b[1;33m,\u001b[0m \u001b[0mIOError\u001b[0m\u001b[1;33m)\u001b[0m \u001b[1;32mas\u001b[0m \u001b[0me\u001b[0m\u001b[1;33m:\u001b[0m\u001b[1;33m\u001b[0m\u001b[0m\n\u001b[0;32m    478\u001b[0m             \u001b[1;32mif\u001b[0m \u001b[0me\u001b[0m\u001b[1;33m.\u001b[0m\u001b[0merrno\u001b[0m \u001b[1;33m==\u001b[0m \u001b[0merrno\u001b[0m\u001b[1;33m.\u001b[0m\u001b[0mEINTR\u001b[0m\u001b[1;33m:\u001b[0m\u001b[1;33m\u001b[0m\u001b[0m\n",
        "\u001b[1;31mKeyboardInterrupt\u001b[0m: "
       ]
      }
     ],
     "prompt_number": 11
    },
    {
     "cell_type": "code",
     "collapsed": false,
     "input": [],
     "language": "python",
     "metadata": {},
     "outputs": [],
     "prompt_number": 40
    },
    {
     "cell_type": "code",
     "collapsed": false,
     "input": [],
     "language": "python",
     "metadata": {},
     "outputs": []
    }
   ],
   "metadata": {}
  }
 ]
}