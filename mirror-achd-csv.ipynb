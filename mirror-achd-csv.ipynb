{
 "cells": [
  {
   "cell_type": "markdown",
   "metadata": {},
   "source": [
    "### Directories\n",
    "\n",
    "- mirror:  Old mirrored PDF files\n",
    "- mirror-csv:  New (2017) mirrored CSV files"
   ]
  },
  {
   "cell_type": "code",
   "execution_count": null,
   "metadata": {},
   "outputs": [],
   "source": [
    "import glob, os, subprocess, tempfile, time, re, json, datetime"
   ]
  },
  {
   "cell_type": "code",
   "execution_count": null,
   "metadata": {},
   "outputs": [],
   "source": [
    "source_url = \"http://www.achd.net/airqual/DailySummary.PDF\"\n",
    "dest_dir = \"mirror-csv\"\n",
    "tmp_dir = \"tmp\"\n",
    "\n",
    "print(\"Mirror directory is %s\" % os.path.abspath(dest_dir))"
   ]
  },
  {
   "cell_type": "code",
   "execution_count": null,
   "metadata": {},
   "outputs": [],
   "source": [
    "# Boilerplate to load utils.ipynb\n",
    "# See https://github.com/CMU-CREATE-Lab/python-utils/blob/master/utils.ipynb\n",
    "\n",
    "def exec_ipynb(filename_or_url):\n",
    "    nb = (requests.get(filename_or_url).json() if re.match(r'https?:', filename_or_url) else json.load(open(filename_or_url)))\n",
    "    if(nb['nbformat'] >= 4):\n",
    "        src = [''.join(cell['source']) for cell in nb['cells'] if cell['cell_type'] == 'code']\n",
    "    else:\n",
    "        src = [''.join(cell['input']) for cell in nb['worksheets'][0]['cells'] if cell['cell_type'] == 'code']\n",
    "\n",
    "    tmpname = '/tmp/%s-%s-%d.py' % (os.path.basename(filename_or_url),\n",
    "                                    datetime.datetime.now().strftime('%Y%m%d%H%M%S%f'),\n",
    "                                    os.getpid())\n",
    "    src = '\\n\\n\\n'.join(src)\n",
    "    open(tmpname, 'w').write(src)\n",
    "    code = compile(src, tmpname, 'exec')\n",
    "    exec(code, globals())\n",
    "\n",
    "exec_ipynb('./python-utils/utils.ipynb')"
   ]
  },
  {
   "cell_type": "code",
   "execution_count": null,
   "metadata": {},
   "outputs": [],
   "source": [
    "def now():\n",
    "    return time.strftime('%Y-%m-%d-%H:%M:%S%z')\n",
    "\n",
    "def find_most_recent_path(dest_dir):\n",
    "    mirrored_files = sorted(glob.glob(dest_dir + \"/AirQualityDataSummary-????-??-??-??:??:??*.csv\"))\n",
    "    if len(mirrored_files) == 0:\n",
    "        return None\n",
    "    return mirrored_files[-1]\n",
    "\n",
    "def mirror_achd_sftp(dest_dir, tmp_dir):\n",
    "    try:\n",
    "        os.mkdir(dest_dir)\n",
    "    except OSError:\n",
    "        pass\n",
    "    try:\n",
    "        os.mkdir(tmp_dir)\n",
    "    except OSError:\n",
    "        pass\n",
    "\n",
    "    tmp_filename = tempfile.NamedTemporaryFile(dir=tmp_dir, delete=False).name\n",
    "\n",
    "    src = 'pdille@moveit.alleghenycounty.us:/WPRDC/Health\\ Department/Air\\ Quality\\ Daily\\ Summary.CSV'\n",
    "    cmd = ['/projects/sshpass/sshpass',\n",
    "       '-f%s/achd-ftp-passwd-do-not-check-in.txt' % os.getcwd(),\n",
    "       'sftp',\n",
    "       src,\n",
    "       tmp_filename]\n",
    "    print(' '.join(cmd))\n",
    "\n",
    "    subprocess_check(cmd)\n",
    "    data = open(tmp_filename).read()\n",
    "    print('%s: Fetched %d bytes from %s to %s\\n' % (now(), len(data), src, tmp_filename))\n",
    "\n",
    "    most_recent_path = find_most_recent_path(dest_dir)\n",
    "\n",
    "    if most_recent_path and open(most_recent_path).read() == data:\n",
    "        print(\"%s: Not recording %d bytes read from %s because identical to previous file %s\\n\" % (now(), len(data), src, most_recent_path))\n",
    "        os.unlink(tmp_filename)\n",
    "    else:\n",
    "        dest = \"%s/AirQualityDataSummary-%s.csv\" % (dest_dir, now())\n",
    "        os.chmod(tmp_filename, 0o0644)\n",
    "        os.rename(tmp_filename, dest)\n",
    "        print(\"%s: Stored %d bytes read from %s at path %s\\n\" % (now(), len(data), src, dest))\n"
   ]
  },
  {
   "cell_type": "code",
   "execution_count": null,
   "metadata": {},
   "outputs": [],
   "source": [
    "mirror_achd_sftp(dest_dir, tmp_dir)"
   ]
  }
 ],
 "metadata": {
  "kernelspec": {
   "display_name": "Anaconda Python3",
   "language": "python",
   "name": "anaconda3",
   "resource_dir": "/usr/local/share/jupyter/kernels/anaconda3"
  },
  "language_info": {
   "codemirror_mode": {
    "name": "ipython",
    "version": 3
   },
   "file_extension": ".py",
   "mimetype": "text/x-python",
   "name": "python",
   "nbconvert_exporter": "python",
   "pygments_lexer": "ipython3",
   "version": "3.8.5"
  }
 },
 "nbformat": 4,
 "nbformat_minor": 4
}
