{
 "cells": [
  {
   "cell_type": "markdown",
   "metadata": {},
   "source": [
    "### Directories\n",
    "\n",
    "- mirror:  Old mirrored PDF files\n",
    "- mirror-csv:  New (2017) mirrored CSV files"
   ]
  },
  {
   "cell_type": "code",
   "execution_count": null,
   "metadata": {},
   "outputs": [],
   "source": [
    "import getpass, glob, os, sys, tempfile, time\n",
    "from utils.utils import Stat, subprocess_check"
   ]
  },
  {
   "cell_type": "code",
   "execution_count": null,
   "metadata": {},
   "outputs": [],
   "source": [
    "sys.path"
   ]
  },
  {
   "cell_type": "code",
   "execution_count": null,
   "metadata": {},
   "outputs": [],
   "source": [
    "source_url = \"http://www.achd.net/airqual/DailySummary.PDF\"\n",
    "dest_dir = \"mirror-csv\"\n",
    "tmp_dir = \"tmp\"\n",
    "\n",
    "print(\"Mirror directory is %s\" % os.path.abspath(dest_dir))"
   ]
  },
  {
   "cell_type": "code",
   "execution_count": null,
   "metadata": {},
   "outputs": [],
   "source": [
    "Stat.set_service('Mirror ACHD to ESDR')\n",
    "stat_shortname = 'Mirror CSV'\n",
    "stat_valid_for_secs = 2 * 3600\n",
    "\n",
    "Stat.info(f'Starting mirror-achd-csv.ipynb with python {sys.executable} as username {getpass.getuser()} with commandline {\" \".join(sys.argv)}', host=stat_shortname, shortname=stat_shortname)\n"
   ]
  },
  {
   "cell_type": "code",
   "execution_count": null,
   "metadata": {},
   "outputs": [],
   "source": [
    "def now():\n",
    "    return time.strftime('%Y-%m-%d-%H:%M:%S%z')\n",
    "\n",
    "def find_most_recent_path(dest_dir):\n",
    "    mirrored_files = sorted(glob.glob(dest_dir + \"/AirQualityDataSummary-????-??-??-??:??:??*.csv\"))\n",
    "    if len(mirrored_files) == 0:\n",
    "        return None\n",
    "    return mirrored_files[-1]\n",
    "\n",
    "def mirror_achd_sftp(dest_dir, tmp_dir):\n",
    "    try:\n",
    "        os.mkdir(dest_dir)\n",
    "    except OSError:\n",
    "        pass\n",
    "    try:\n",
    "        os.mkdir(tmp_dir)\n",
    "    except OSError:\n",
    "        pass\n",
    "\n",
    "    tmp_filename = tempfile.NamedTemporaryFile(dir=tmp_dir, delete=False).name\n",
    "\n",
    "    src = 'pdille@moveit.alleghenycounty.us:/WPRDC/Health\\ Department/Air\\ Quality\\ Daily\\ Summary.CSV'\n",
    "    cmd = ['/projects/sshpass/sshpass',\n",
    "       '-f%s/achd-ftp-passwd-do-not-check-in.txt' % os.getcwd(),\n",
    "       'sftp',\n",
    "       src,\n",
    "       tmp_filename]\n",
    "    print(' '.join(cmd))\n",
    "\n",
    "    subprocess_check(cmd)\n",
    "    data = open(tmp_filename).read()\n",
    "    print('%s: Fetched %d bytes from %s to %s\\n' % (now(), len(data), src, tmp_filename))\n",
    "\n",
    "    most_recent_path = find_most_recent_path(dest_dir)\n",
    "\n",
    "    if most_recent_path and open(most_recent_path).read() == data:\n",
    "        Stat.info(f\"{now()}: Not recording {len(data)} bytes read from {src} because identical to previous file {most_recent_path}\", host=stat_shortname, shortname=stat_shortname)\n",
    "        os.unlink(tmp_filename)\n",
    "    else:\n",
    "        dest = \"%s/AirQualityDataSummary-%s.csv\" % (dest_dir, now())\n",
    "        os.chmod(tmp_filename, 0o0644)\n",
    "        os.rename(tmp_filename, dest)\n",
    "        Stat.up(f\"{now()}: Stored {len(data)} bytes read from {src} at path {dest}\", host=stat_shortname, shortname=stat_shortname, valid_for_secs=stat_valid_for_secs)\n"
   ]
  },
  {
   "cell_type": "code",
   "execution_count": null,
   "metadata": {},
   "outputs": [],
   "source": [
    "mirror_achd_sftp(dest_dir, tmp_dir)"
   ]
  }
 ],
 "metadata": {
  "interpreter": {
   "hash": "eb515998ad34bf8b6747d8956148ed475776a35340506cdbe2bff60bc1f4bdc9"
  },
  "kernelspec": {
   "display_name": "Python 3.8.5 64-bit ('base': conda)",
   "name": "python3"
  },
  "language_info": {
   "codemirror_mode": {
    "name": "ipython",
    "version": 3
   },
   "file_extension": ".py",
   "mimetype": "text/x-python",
   "name": "python",
   "nbconvert_exporter": "python",
   "pygments_lexer": "ipython3",
   "version": "3.8.5"
  }
 },
 "nbformat": 4,
 "nbformat_minor": 4
}
