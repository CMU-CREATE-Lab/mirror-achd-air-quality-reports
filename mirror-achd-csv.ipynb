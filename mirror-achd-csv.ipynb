{
 "cells": [
  {
   "cell_type": "markdown",
   "metadata": {},
   "source": [
    "### Directories\n",
    "\n",
    "- mirror:  Old mirrored PDF files\n",
    "- mirror-csv:  New (2017) mirrored CSV files"
   ]
  },
  {
   "cell_type": "code",
   "execution_count": 6,
   "metadata": {
    "collapsed": true
   },
   "outputs": [],
   "source": [
    "import glob, os, subprocess, tempfile, time, urllib2"
   ]
  },
  {
   "cell_type": "code",
   "execution_count": 2,
   "metadata": {
    "collapsed": false
   },
   "outputs": [
    {
     "name": "stdout",
     "output_type": "stream",
     "text": [
      "Mirror directory is /usr4/web/data.cmucreatelab.org/mirror-achd-air-quality-reports-esdr/mirror-csv\n"
     ]
    }
   ],
   "source": [
    "source_url = \"http://www.achd.net/airqual/DailySummary.PDF\"\n",
    "dest_dir = \"mirror-csv\"\n",
    "tmp_dir = \"tmp\"\n",
    "\n",
    "print \"Mirror directory is %s\" % os.path.abspath(dest_dir)"
   ]
  },
  {
   "cell_type": "code",
   "execution_count": 3,
   "metadata": {
    "collapsed": true
   },
   "outputs": [],
   "source": [
    "def subprocess_check(*args, **kwargs):\n",
    "    if len(args) == 1 and type(args[0]) == str:\n",
    "        kwargs['shell'] = True\n",
    "    p = subprocess.Popen(*args,  \n",
    "                         stdout=subprocess.PIPE, \n",
    "                         stderr=subprocess.PIPE,\n",
    "                         **kwargs)\n",
    "    (out, err) = p.communicate()\n",
    "    ret = p.wait()\n",
    "    if ret != 0:\n",
    "        if out and out[-1] != '\\n':\n",
    "            out += '\\n'\n",
    "        if err and err[-1] != '\\n':\n",
    "            err += '\\n'\n",
    "        raise Exception(\n",
    "            ('Call to subprocess_check failed with return code {ret}\\n'\n",
    "             'Standard error:\\n{err}'\n",
    "             'Standard out:\\n{out}').format(**locals()))\n",
    "    if err != '' and out != '' and err[-1] != '\\n':\n",
    "        err += '\\n'\n",
    "    return err + out"
   ]
  },
  {
   "cell_type": "code",
   "execution_count": 8,
   "metadata": {
    "collapsed": true
   },
   "outputs": [],
   "source": [
    "def now():\n",
    "    return time.strftime('%Y-%m-%d-%H:%M:%S%z')\n",
    "\n",
    "def find_most_recent_path(dest_dir):\n",
    "    mirrored_files = sorted(glob.glob(dest_dir + \"/AirQualityDataSummary-????-??-??-??:??:??*.csv\"))\n",
    "    if len(mirrored_files) == 0:\n",
    "        return None\n",
    "    return mirrored_files[-1]\n",
    "\n",
    "def mirror_achd_sftp(dest_dir, tmp_dir):\n",
    "    try:\n",
    "        os.mkdir(dest_dir)\n",
    "    except OSError:\n",
    "        pass\n",
    "    try:\n",
    "        os.mkdir(tmp_dir)\n",
    "    except OSError:\n",
    "        pass\n",
    "\n",
    "    tmp_filename = tempfile.NamedTemporaryFile(dir=tmp_dir, delete=False).name\n",
    "\n",
    "    src = 'pdille@moveit.alleghenycounty.us:/WPRDC/Health\\ Department/Air\\ Quality\\ Daily\\ Summary.CSV'\n",
    "    cmd = ['sshpass',\n",
    "       '-f%s/achd-ftp-passwd-do-not-check-in.txt' % os.getcwd(),\n",
    "       'sftp',\n",
    "       src,\n",
    "       tmp_filename]\n",
    "    print ' '.join(cmd)\n",
    "    \n",
    "    subprocess_check(cmd)\n",
    "    data = open(tmp_filename).read()\n",
    "    print '%s: Fetched %d bytes from %s to %s\\n' % (now(), len(data), src, tmp_filename)\n",
    "              \n",
    "    most_recent_path = find_most_recent_path(dest_dir)\n",
    "              \n",
    "    if most_recent_path and open(most_recent_path).read() == data:\n",
    "        print \"%s: Not recording %d bytes read from %s because identical to previous file %s\\n\" % (now(), len(data), src, most_recent_path)\n",
    "        os.unlink(tmp_filename)\n",
    "    else:\n",
    "        dest = \"%s/AirQualityDataSummary-%s.csv\" % (dest_dir, now())\n",
    "        os.chmod(tmp_filename, 0644)\n",
    "        os.rename(tmp_filename, dest)\n",
    "        print \"%s: Stored %d bytes read from %s at path %s\\n\" % (now(), len(data), src, dest)\n",
    "    "
   ]
  },
  {
   "cell_type": "code",
   "execution_count": 9,
   "metadata": {
    "collapsed": false
   },
   "outputs": [
    {
     "name": "stdout",
     "output_type": "stream",
     "text": [
      "sshpass -f/usr4/web/data.cmucreatelab.org/mirror-achd-air-quality-reports-esdr/achd-ftp-passwd-do-not-check-in.txt sftp pdille@moveit.alleghenycounty.us:/WPRDC/Health\\ Department/Air\\ Quality\\ Daily\\ Summary.CSV /usr4/web/data.cmucreatelab.org/mirror-achd-air-quality-reports-esdr/tmp/tmp3SgC78\n"
     ]
    },
    {
     "ename": "Exception",
     "evalue": "Call to subprocess_check failed with return code 6\nStandard error:\nHost key verification failed.\r\nStandard out:\n",
     "output_type": "error",
     "traceback": [
      "\u001b[1;31m---------------------------------------------------------------------------\u001b[0m",
      "\u001b[1;31mException\u001b[0m                                 Traceback (most recent call last)",
      "\u001b[1;32m<ipython-input-9-96789d77746f>\u001b[0m in \u001b[0;36m<module>\u001b[1;34m()\u001b[0m\n\u001b[1;32m----> 1\u001b[1;33m \u001b[0mmirror_achd_sftp\u001b[0m\u001b[1;33m(\u001b[0m\u001b[0mdest_dir\u001b[0m\u001b[1;33m,\u001b[0m \u001b[0mtmp_dir\u001b[0m\u001b[1;33m)\u001b[0m\u001b[1;33m\u001b[0m\u001b[0m\n\u001b[0m",
      "\u001b[1;32m<ipython-input-8-2423ecbd082d>\u001b[0m in \u001b[0;36mmirror_achd_sftp\u001b[1;34m(dest_dir, tmp_dir)\u001b[0m\n\u001b[0;32m     28\u001b[0m     \u001b[1;32mprint\u001b[0m \u001b[1;34m' '\u001b[0m\u001b[1;33m.\u001b[0m\u001b[0mjoin\u001b[0m\u001b[1;33m(\u001b[0m\u001b[0mcmd\u001b[0m\u001b[1;33m)\u001b[0m\u001b[1;33m\u001b[0m\u001b[0m\n\u001b[0;32m     29\u001b[0m \u001b[1;33m\u001b[0m\u001b[0m\n\u001b[1;32m---> 30\u001b[1;33m     \u001b[0msubprocess_check\u001b[0m\u001b[1;33m(\u001b[0m\u001b[0mcmd\u001b[0m\u001b[1;33m)\u001b[0m\u001b[1;33m\u001b[0m\u001b[0m\n\u001b[0m\u001b[0;32m     31\u001b[0m     \u001b[0mdata\u001b[0m \u001b[1;33m=\u001b[0m \u001b[0mopen\u001b[0m\u001b[1;33m(\u001b[0m\u001b[0mtmp_filename\u001b[0m\u001b[1;33m)\u001b[0m\u001b[1;33m.\u001b[0m\u001b[0mread\u001b[0m\u001b[1;33m(\u001b[0m\u001b[1;33m)\u001b[0m\u001b[1;33m\u001b[0m\u001b[0m\n\u001b[0;32m     32\u001b[0m     \u001b[1;32mprint\u001b[0m \u001b[1;34m'%s: Fetched %d bytes from %s to %s\\n'\u001b[0m \u001b[1;33m%\u001b[0m \u001b[1;33m(\u001b[0m\u001b[0mnow\u001b[0m\u001b[1;33m(\u001b[0m\u001b[1;33m)\u001b[0m\u001b[1;33m,\u001b[0m \u001b[0mlen\u001b[0m\u001b[1;33m(\u001b[0m\u001b[0mdata\u001b[0m\u001b[1;33m)\u001b[0m\u001b[1;33m,\u001b[0m \u001b[0msrc\u001b[0m\u001b[1;33m,\u001b[0m \u001b[0mtmp_filename\u001b[0m\u001b[1;33m)\u001b[0m\u001b[1;33m\u001b[0m\u001b[0m\n",
      "\u001b[1;32m<ipython-input-3-23d64b09a86b>\u001b[0m in \u001b[0;36msubprocess_check\u001b[1;34m(*args, **kwargs)\u001b[0m\n\u001b[0;32m     16\u001b[0m             ('Call to subprocess_check failed with return code {ret}\\n'\n\u001b[0;32m     17\u001b[0m              \u001b[1;34m'Standard error:\\n{err}'\u001b[0m\u001b[1;33m\u001b[0m\u001b[0m\n\u001b[1;32m---> 18\u001b[1;33m              'Standard out:\\n{out}').format(**locals()))\n\u001b[0m\u001b[0;32m     19\u001b[0m     \u001b[1;32mif\u001b[0m \u001b[0merr\u001b[0m \u001b[1;33m!=\u001b[0m \u001b[1;34m''\u001b[0m \u001b[1;32mand\u001b[0m \u001b[0mout\u001b[0m \u001b[1;33m!=\u001b[0m \u001b[1;34m''\u001b[0m \u001b[1;32mand\u001b[0m \u001b[0merr\u001b[0m\u001b[1;33m[\u001b[0m\u001b[1;33m-\u001b[0m\u001b[1;36m1\u001b[0m\u001b[1;33m]\u001b[0m \u001b[1;33m!=\u001b[0m \u001b[1;34m'\\n'\u001b[0m\u001b[1;33m:\u001b[0m\u001b[1;33m\u001b[0m\u001b[0m\n\u001b[0;32m     20\u001b[0m         \u001b[0merr\u001b[0m \u001b[1;33m+=\u001b[0m \u001b[1;34m'\\n'\u001b[0m\u001b[1;33m\u001b[0m\u001b[0m\n",
      "\u001b[1;31mException\u001b[0m: Call to subprocess_check failed with return code 6\nStandard error:\nHost key verification failed.\r\nStandard out:\n"
     ]
    }
   ],
   "source": [
    "mirror_achd_sftp(dest_dir, tmp_dir)"
   ]
  },
  {
   "cell_type": "code",
   "execution_count": null,
   "metadata": {
    "collapsed": true
   },
   "outputs": [],
   "source": []
  }
 ],
 "metadata": {
  "kernelspec": {
   "display_name": "Python 2",
   "language": "python",
   "name": "python2"
  },
  "language_info": {
   "codemirror_mode": {
    "name": "ipython",
    "version": 2
   },
   "file_extension": ".py",
   "mimetype": "text/x-python",
   "name": "python",
   "nbconvert_exporter": "python",
   "pygments_lexer": "ipython2",
   "version": "2.7.11"
  }
 },
 "nbformat": 4,
 "nbformat_minor": 0
}
