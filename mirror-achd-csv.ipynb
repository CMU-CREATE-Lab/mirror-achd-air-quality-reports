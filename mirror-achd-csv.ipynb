{
 "cells": [
  {
   "cell_type": "markdown",
   "metadata": {},
   "source": [
    "### Directories\n",
    "\n",
    "- mirror:  Old mirrored PDF files\n",
    "- mirror-csv:  New (2017) mirrored CSV files"
   ]
  },
  {
   "cell_type": "code",
   "execution_count": 34,
   "metadata": {
    "collapsed": true
   },
   "outputs": [],
   "source": [
    "import glob, os, subprocess, tempfile, time, urllib2"
   ]
  },
  {
   "cell_type": "code",
   "execution_count": 35,
   "metadata": {
    "collapsed": false
   },
   "outputs": [
    {
     "name": "stdout",
     "output_type": "stream",
     "text": [
      "Mirror directory is /usr4/web/data.cmucreatelab.org/mirror-achd-air-quality-reports-esdr/mirror-csv\n"
     ]
    }
   ],
   "source": [
    "source_url = \"http://www.achd.net/airqual/DailySummary.PDF\"\n",
    "dest_dir = \"mirror-csv\"\n",
    "tmp_dir = \"tmp\"\n",
    "\n",
    "print \"Mirror directory is %s\" % os.path.abspath(dest_dir)"
   ]
  },
  {
   "cell_type": "code",
   "execution_count": 36,
   "metadata": {
    "collapsed": true
   },
   "outputs": [],
   "source": [
    "def subprocess_check(*args, **kwargs):\n",
    "    if len(args) == 1 and type(args[0]) == str:\n",
    "        kwargs['shell'] = True\n",
    "    p = subprocess.Popen(*args,  \n",
    "                         stdout=subprocess.PIPE, \n",
    "                         stderr=subprocess.PIPE,\n",
    "                         **kwargs)\n",
    "    (out, err) = p.communicate()\n",
    "    ret = p.wait()\n",
    "    if ret != 0:\n",
    "        if out and out[-1] != '\\n':\n",
    "            out += '\\n'\n",
    "        if err and err[-1] != '\\n':\n",
    "            err += '\\n'\n",
    "        raise Exception(\n",
    "            ('Call to subprocess_check failed with return code {ret}\\n'\n",
    "             'Standard error:\\n{err}'\n",
    "             'Standard out:\\n{out}').format(**locals()))\n",
    "    if err != '' and out != '' and err[-1] != '\\n':\n",
    "        err += '\\n'\n",
    "    return err + out"
   ]
  },
  {
   "cell_type": "code",
   "execution_count": 37,
   "metadata": {
    "collapsed": true
   },
   "outputs": [],
   "source": [
    "def now():\n",
    "    return time.strftime('%Y-%m-%d-%H:%M:%S%z')\n",
    "\n",
    "def find_most_recent_path(dest_dir):\n",
    "    mirrored_files = sorted(glob.glob(dest_dir + \"/AirQualityDataSummary-????-??-??-??:??:??*.csv\"))\n",
    "    if len(mirrored_files) == 0:\n",
    "        return None\n",
    "    return mirrored_files[-1]\n",
    "\n",
    "def mirror_achd_sftp(dest_dir, tmp_dir):\n",
    "    try:\n",
    "        os.mkdir(dest_dir)\n",
    "    except OSError:\n",
    "        pass\n",
    "    try:\n",
    "        os.mkdir(tmp_dir)\n",
    "    except OSError:\n",
    "        pass\n",
    "\n",
    "    tmp_filename = tempfile.NamedTemporaryFile(dir=tmp_dir, delete=False).name\n",
    "\n",
    "    src = 'pdille@moveit.alleghenycounty.us:/WPRDC/Health\\ Department/Air\\ Quality\\ Daily\\ Summary.CSV'\n",
    "    cmd = ['sshpass',\n",
    "       '-f%s/achd-ftp-passwd-do-not-check-in.txt' % os.getcwd(),\n",
    "       'sftp',\n",
    "       src,\n",
    "       tmp_filename]\n",
    "    \n",
    "    subprocess_check(cmd)\n",
    "    data = open(tmp_filename).read()\n",
    "    print '%s: Fetched %d bytes from %s to %s\\n' % (now(), len(data), src, tmp_filename)\n",
    "              \n",
    "    most_recent_path = find_most_recent_path(dest_dir)\n",
    "              \n",
    "    if most_recent_path and open(most_recent_path).read() == data:\n",
    "        print \"%s: Not recording %d bytes read from %s because identical to previous file %s\\n\" % (now(), len(data), src, most_recent_path)\n",
    "        os.unlink(tmp_filename)\n",
    "    else:\n",
    "        dest = \"%s/AirQualityDataSummary-%s.csv\" % (dest_dir, now())\n",
    "        os.rename(tmp_filename, dest)\n",
    "        print \"%s: Stored %d bytes read from %s at path %s\\n\" % (now(), len(data), src, dest)\n",
    "    "
   ]
  },
  {
   "cell_type": "code",
   "execution_count": 38,
   "metadata": {
    "collapsed": false
   },
   "outputs": [
    {
     "name": "stdout",
     "output_type": "stream",
     "text": [
      "2017-06-09-13:06:24-0400: Fetched 122583 bytes from pdille@moveit.alleghenycounty.us:/WPRDC/Health\\ Department/Air\\ Quality\\ Daily\\ Summary.CSV to /usr4/web/data.cmucreatelab.org/mirror-achd-air-quality-reports-esdr/tmp/tmpRltjKs\n",
      "\n",
      "2017-06-09-13:06:24-0400: Not recording 122583 bytes read from pdille@moveit.alleghenycounty.us:/WPRDC/Health\\ Department/Air\\ Quality\\ Daily\\ Summary.CSV because identical to previous file mirror-csv/AirQualityDataSummary-2017-06-09-12:59:27-0400.csv\n",
      "\n"
     ]
    }
   ],
   "source": [
    "mirror_achd_sftp(dest_dir, tmp_dir)"
   ]
  }
 ],
 "metadata": {
  "kernelspec": {
   "display_name": "Python 2",
   "language": "python",
   "name": "python2"
  },
  "language_info": {
   "codemirror_mode": {
    "name": "ipython",
    "version": 2
   },
   "file_extension": ".py",
   "mimetype": "text/x-python",
   "name": "python",
   "nbconvert_exporter": "python",
   "pygments_lexer": "ipython2",
   "version": "2.7.11"
  }
 },
 "nbformat": 4,
 "nbformat_minor": 0
}
