{
 "metadata": {
  "name": "",
  "signature": "sha256:5a65f7ed6c62ed21cb6c4263419d38c5b229f733b8a7ab087e984a26ce96cbdf"
 },
 "nbformat": 3,
 "nbformat_minor": 0,
 "worksheets": [
  {
   "cells": [
    {
     "cell_type": "code",
     "collapsed": false,
     "input": [
      "# pdf2txt.py -t xml DailySummary-2014-05-02-23\\:35\\:10-0400.PDF  > foo.xml\n",
      "\n",
      "import xml.dom.minidom\n",
      "doc = xml.dom.minidom.parse('test.xml')"
     ],
     "language": "python",
     "metadata": {},
     "outputs": [],
     "prompt_number": 1
    },
    {
     "cell_type": "code",
     "collapsed": false,
     "input": [
      "doc.getElementsByTagName('page')[0].getElementsByTagName('textline')[0].getAttribute('bbox')"
     ],
     "language": "python",
     "metadata": {},
     "outputs": [
      {
       "metadata": {},
       "output_type": "pyout",
       "prompt_number": 51,
       "text": [
        "u'24.480,760.947,81.332,773.924'"
       ]
      }
     ],
     "prompt_number": 51
    },
    {
     "cell_type": "code",
     "collapsed": false,
     "input": [
      "elt = doc.getElementsByTagName('page')[0].getElementsByTagName('textline')[0].getElementsByTagName('text')[0]\n",
      "elt.firstChild.nodeValue"
     ],
     "language": "python",
     "metadata": {},
     "outputs": [
      {
       "metadata": {},
       "output_type": "pyout",
       "prompt_number": 64,
       "text": [
        "u'D'"
       ]
      }
     ],
     "prompt_number": 64
    },
    {
     "cell_type": "code",
     "collapsed": false,
     "input": [
      "class Point:\n",
      "    def __init__(self, x, y):\n",
      "        self.x = x\n",
      "        self.y = y\n",
      "        \n",
      "    def __sub__(self, rhs):\n",
      "        return Point(self.x - rhs.x, self.y - rhs.y)\n",
      "        \n",
      "    def __repr__(self):\n",
      "        return 'Point2(%g, %g)' % (self.x, self.y)\n",
      "\n",
      "class Bbox:\n",
      "    def __init__(self, str):\n",
      "        (self.left, self.top, self.right, self.bottom) = [float(e) for e in str.split(',')]\n",
      "        \n",
      "    def __repr__(self):\n",
      "        return 'Bbox(%g, %g, %g, %g)' % (self.top, self.left, self.bottom, self.right)\n",
      "    \n",
      "    def center(self):\n",
      "        return Point(0.5 * (self.left + self.right), 0.5 * (self.top + self.bottom))\n",
      "    \n",
      "    def width(self):\n",
      "        return self.right - self.left\n",
      "    \n",
      "    def height(self):\n",
      "        return self.bottom - self.top\n",
      "    \n",
      "page = doc.getElementsByTagName('page')[0]\n",
      "\n",
      "def parse_textline(textline):\n",
      "    bbox = Bbox(textline.getAttribute('bbox'))\n",
      "    text = ''.join([elt.firstChild.nodeValue for elt in textline.getElementsByTagName('text')])\n",
      "    return {'bbox':bbox, 'text': text}\n",
      "\n",
      "textlines = [parse_textline(textline) for textline in page.getElementsByTagName('textline')]\n",
      "rectangles = [Bbox(rect.getAttribute('bbox')) for rect in page.getElementsByTagName('rect')]"
     ],
     "language": "python",
     "metadata": {},
     "outputs": [],
     "prompt_number": 137
    },
    {
     "cell_type": "markdown",
     "metadata": {},
     "source": [
      "Algorithm:\n",
      "\n",
      "Find centers of text matching 00:00 ... 23:00\n",
      "Compute row centers 00:00 ... 23:00, plus two rows on top for headers\n",
      "Find centers of text that lines up with top header row.  These are column locations\n",
      "Add center of 00:00 to columns\n",
      "\n",
      "Iterate through all text.  If text lines up with a row, install it in the closest column according to center\n",
      "\n",
      "\n"
     ]
    },
    {
     "cell_type": "code",
     "collapsed": false,
     "input": [
      "import datetime, math, re\n",
      "\n",
      "# Find site\n",
      "site = None\n",
      "\n",
      "for (i, textline) in enumerate(textlines):\n",
      "    if textline['text'].strip() == 'Site:':\n",
      "        site_textline = textlines[i + 1]\n",
      "        deltapos = textline['bbox'].center() - site_textline['bbox'].center()\n",
      "        \n",
      "        if abs(deltapos.y) > 3:\n",
      "            raise Exception('Confused about y location while trying to locate site')\n",
      "        \n",
      "        if deltapos.x > 0 or deltapos.x < -100:\n",
      "            raise Exception('Confused about x location while trying to locate site')\n",
      "        \n",
      "        if site:\n",
      "            raise Exception('Found more than one site?')\n",
      "        \n",
      "        site = site_textline['text'].strip()\n",
      "\n",
      "if not site:\n",
      "    raise Exception(\"Couldn't parse site\")\n",
      "    \n",
      "print 'Site: %s' % site\n",
      "\n",
      "# Find date\n",
      "date = None\n",
      "for textline in textlines:\n",
      "    if re.match(r'\\d+/\\d+/\\d+$', textline['text'].strip()):\n",
      "        if date:\n",
      "            raise Exception('Found more than one date?')\n",
      "        date = datetime.datetime.strptime(textline['text'].strip(), '%m/%d/%Y')\n",
      "\n",
      "if not date:\n",
      "    raise Exception(\"Couldn't find date\")\n",
      "\n",
      "print 'Date: %s' % date\n",
      "\n",
      "toprow = None\n",
      "bottomrow = None\n",
      "columns = []\n",
      "\n",
      "# Find row locations\n",
      "for textline in textlines:\n",
      "    if textline['text'].strip() == '00:00':\n",
      "        if toprow:\n",
      "            raise Exception('Found more than one toprow?')\n",
      "        toprow = textline['bbox'].center().y\n",
      "        columns.append(textline['bbox'].center().x)\n",
      "    if textline['text'].strip() == '23:00':\n",
      "        if bottomrow:\n",
      "            raise Exception('Found more than one bottomrow?')\n",
      "        bottomrow = textline['bbox'].center().y\n",
      "\n",
      "if not toprow or not bottomrow:\n",
      "    raise Exception(\"Couldn't find row landmarks\")\n",
      "\n",
      "def compute_row(textline):\n",
      "    fraction = (toprow - textline['bbox'].center().y) / float(toprow - bottomrow)\n",
      "    row = round((fraction * 23) + 2)\n",
      "    if (row < 0 or row > 25):\n",
      "        return None\n",
      "    return int(row)\n",
      "\n",
      "# Find columns\n",
      "for textline in textlines:\n",
      "    if 0 == compute_row(textline):\n",
      "        columns.append(textline['bbox'].center().x)\n",
      "\n",
      "columns = sorted(columns)\n",
      "\n",
      "def compute_col(textline):\n",
      "    x = textline['bbox'].center().x\n",
      "    best = 0\n",
      "    for i in range(0, len(columns)):\n",
      "        if abs(x - columns[i]) < abs(x - columns[best]):\n",
      "            best = i\n",
      "    return best\n",
      "\n",
      "table = [[None] * len(columns) for row in range(0, 26)]\n",
      "\n",
      "# Build table\n",
      "# Find columns\n",
      "for textline in textlines:\n",
      "    row = compute_row(textline)\n",
      "    if row != None:\n",
      "        col = compute_col(textline)\n",
      "        table[row][col] = textline['text'].strip()\n",
      "\n",
      "print table\n"
     ],
     "language": "python",
     "metadata": {},
     "outputs": [
      {
       "output_type": "stream",
       "stream": "stdout",
       "text": [
        "Site: Avalon\n",
        "Date: 2014-04-26 00:00:00\n",
        "[[None, u'BP', u'H2S', u'INT_T', u'OUT_T', u'PM25B', u'SIGTHETA', u'SO2', u'SONICWD', u'SONICWS'], [u'Hour', u'MM/HG', u'PPM', u'DEGC', u'DEGC', u'UG/M3', u'DEG', u'PPM', u'DEG', u'MPH'], [u'00:00', u'737.8', u'.000 C', u'23.3', u'7.9', u'19', u'58.5', u'.000 C', u'263', u'1.2'], [u'01:00', u'737.3', u'.000 C', u'23.0', u'7.7', u'25', u'37.9', u'.001 C', u'147', u'1.8'], [u'02:00', u'736.9', u'.000', u'22.7', u'7.2', u'26', u'23.4', u'.000', u'110', u'1.7'], [u'03:00', u'736.8', u'.000', u'22.3', u'7.2', u'24', u'22.0', u'.000', u'130', u'2.4'], [u'04:00', u'736.8', u'.000', u'22.1', u'7.3', u'24', u'25.0', u'.000', u'111', u'2.3'], [u'05:00', u'736.7', u'.000', u'22.0', u'7.6', u'20', u'22.2', u'.000', u'123', u'2.1'], [u'06:00', u'736.8', u'.000', u'22.1', u'8.2', u'23', u'24.4', u'.001', u'141', u'2.6'], [u'07:00', u'736.5', u'.000', u'22.5', u'9.6', u'23', u'41.0', u'.002', u'139', u'2.8'], [u'08:00', u'736.5', u'.001', u'23.1', u'11.9', u'13', u'55.5', u'.010', u'272', u'3.4'], [u'09:00', u'736.4', u'.000', u'23.1', u'13.6', u'11', u'26.0', u'.005', u'262', u'5.0'], [u'10:00', u'735.8', u'.001', u'22.6', u'16.7', u'10', u'25.6', u'.005', u'268', u'7.5'], [u'11:00', u'735.2', u'.000', u'22.5', u'19.2', u'7', u'24.8', u'.001', u'278', u'12.2'], [u'12:00', u'735.2', u'.000', u'22.5', u'19.8', u'5', u'22.0', u'.001', u'294', u'11.6'], [u'13:00', u'735.4', u'.000', u'22.6', u'19.9', u'6', u'24.6', u'.001', u'299', u'13.8'], [u'14:00', u'735.7', u'.000', u'22.6', u'19.4', u'4', u'25.3', u'.002', u'305', u'12.3'], [u'15:00', u'736.2', u'.000', u'22.6', u'19.0', u'4', u'29.3', u'.002', u'311', u'11.5'], [u'16:00', u'737.2', u'.000', u'22.6', u'17.7', u'5', u'41.8', u'.001', u'327', u'9.0'], [u'17:00', u'738.2', u'.000', u'22.7', u'15.7', u'7', u'51.4', u'.001', u'335', u'7.4'], [u'18:00', u'738.5', u'.000', u'22.8', u'13.6', u'8', u'48.2', u'.001', u'336', u'5.8'], [u'19:00', u'739.5', u'.000', u'23.3', u'11.3', u'9', u'54.4', u'.001', u'350', u'3.5'], [u'20:00', u'740.2', u'.000', u'23.6', u'9.7', u'9', u'54.1', u'.001', u'343', u'2.7'], [u'21:00', u'740.8', u'.000', u'23.8', u'8.3', u'8', u'50.8', u'.001', u'348', u'3.0'], [u'22:00', u'740.9', u'.000', u'23.5', u'7.0', u'8', u'48.4', u'.000', u'347', u'1.8'], [u'23:00', u'741.4', u'.000', u'23.0', u'5.9', u'6', u'38.5', u'.000', u'4', u'1.7']]\n"
       ]
      }
     ],
     "prompt_number": 179
    },
    {
     "cell_type": "code",
     "collapsed": false,
     "input": [
      "columns"
     ],
     "language": "python",
     "metadata": {},
     "outputs": [
      {
       "metadata": {},
       "output_type": "pyout",
       "prompt_number": 174,
       "text": [
        "[42.539500000000004,\n",
        " 89.03450000000001,\n",
        " 143.03449999999998,\n",
        " 197.03,\n",
        " 251.02999999999997,\n",
        " 305.0335,\n",
        " 359.0215,\n",
        " 413.036,\n",
        " 467.025,\n",
        " 521.0255,\n",
        " 89.03450000000001,\n",
        " 89.0355,\n",
        " 89.035,\n",
        " 89.035]"
       ]
      }
     ],
     "prompt_number": 174
    },
    {
     "cell_type": "code",
     "collapsed": false,
     "input": [
      "len(table)"
     ],
     "language": "python",
     "metadata": {},
     "outputs": [
      {
       "metadata": {},
       "output_type": "pyout",
       "prompt_number": 169,
       "text": [
        "26"
       ]
      }
     ],
     "prompt_number": 169
    },
    {
     "cell_type": "code",
     "collapsed": false,
     "input": [
      "table[12][3]"
     ],
     "language": "python",
     "metadata": {},
     "outputs": [],
     "prompt_number": 171
    },
    {
     "cell_type": "code",
     "collapsed": false,
     "input": [
      "columns"
     ],
     "language": "python",
     "metadata": {},
     "outputs": [
      {
       "metadata": {},
       "output_type": "pyout",
       "prompt_number": 172,
       "text": [
        "[42.539500000000004,\n",
        " 89.03450000000001,\n",
        " 143.03449999999998,\n",
        " 197.03,\n",
        " 251.02999999999997,\n",
        " 305.0335,\n",
        " 359.0215,\n",
        " 413.036,\n",
        " 467.025,\n",
        " 521.0255,\n",
        " 89.03450000000001,\n",
        " 89.0355,\n",
        " 89.035,\n",
        " 89.035]"
       ]
      }
     ],
     "prompt_number": 172
    },
    {
     "cell_type": "code",
     "collapsed": false,
     "input": [],
     "language": "python",
     "metadata": {},
     "outputs": []
    }
   ],
   "metadata": {}
  }
 ]
}